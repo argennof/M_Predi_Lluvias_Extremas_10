{
  "cells": [
    {
      "cell_type": "markdown",
      "metadata": {
        "id": "view-in-github",
        "colab_type": "text"
      },
      "source": [
        "<a href=\"https://colab.research.google.com/github/argennof/M_Predi_Lluvias_Extremas_10/blob/main/TP3_Balbuena_Serrantes_Fonnegra_Velazquez.ipynb\" target=\"_parent\"><img src=\"https://colab.research.google.com/assets/colab-badge.svg\" alt=\"Open In Colab\"/></a>"
      ]
    },
    {
      "cell_type": "markdown",
      "metadata": {
        "id": "G5_42_uCeFCJ"
      },
      "source": [
        "## TP3: Introducción al aprendizaje automático"
      ]
    },
    {
      "cell_type": "markdown",
      "metadata": {
        "id": "8AZLxvMceFCQ"
      },
      "source": [
        "De los datasets analizados en los TPs anteriores, ahora nos vamos a enfocar en:\n",
        "\n",
        "- La Florida\n",
        "- Marcos Juarez\n",
        "\n",
        "Y vamos a usar como variable que queremos predecir, la PMDA que han calculado para cada año hidrológico (del 1/julio al 30/junio).\n",
        "\n",
        "Las demás variables (como viento, temperatura, etc) las vamos a resumir para cada año hidrológico en la media (se pueden agregar más estadísticos pero así es suficiente)."
      ]
    },
    {
      "cell_type": "markdown",
      "metadata": {
        "id": "L-6lwzNweFCR"
      },
      "source": [
        "##### Actividades:\n",
        "\n",
        "##### OBJETIVO: Predecir Precipitación Máxima Diaria Anual (PMDA) para los próximos 5 años"
      ]
    },
    {
      "cell_type": "markdown",
      "metadata": {
        "id": "sAsymsd-eFCR"
      },
      "source": [
        "1) De los dataset que han trabajado hasta ahora, agreguen más features al DataFrame **\"Datos\"** (Por lo general, más features tienden a dar mejores predicciones).\n",
        "\n",
        "2) Además de las features del punto anterior, les propongo agregar nuevas features moviendo las originales tantos \"pasos de tiempo\" como features nuevas quieran generar.\n",
        "\n",
        "3) Curar el dataset (si fuera necesario).\n",
        "\n",
        "4) Aplicar técnicas de selección y extraccion de features. Armar un nuevo dataset con aquellas features más significativas.\n",
        "\n",
        "5) Dividir el dataset (training, validation, test).. Recuerden que queremos predecir la PMDA para los próximos 5 años.\n",
        "\n",
        "6) Analizar y elegir 3 modelos para REGRESIÓN. Entrenarlos y analizar resultados.\n",
        "\n",
        "7) Evaluar predicciones de los diferentes modelos.\n",
        "\n",
        "8) ¿Qué estadísticos utilizaron para evaluar las regresiones? Justifiquen su elección."
      ]
    },
    {
      "cell_type": "markdown",
      "source": [
        "\n",
        "Busqueda en internet:\n",
        "\n",
        "https://towardsdatascience.com/predicting-rain-with-machine-learning-2acf80017c44\n",
        "\n",
        "https://www.kaggle.com/code/nasirmeh/prediction-of-rainfall\n",
        "\n",
        "https://www.kaggle.com/code/fahadmehfoooz/rain-prediction-with-90-65-accuracy\n",
        "\n",
        "https://www.kaggle.com/code/chandrimad31/rainfall-prediction-7-popular-models"
      ],
      "metadata": {
        "id": "10w8Ew49iv9-"
      }
    },
    {
      "cell_type": "markdown",
      "source": [
        "1- Configuración de las librerías necesarías para el desarrollo del trabajo:"
      ],
      "metadata": {
        "id": "Qki4LeIH_cqV"
      }
    },
    {
      "cell_type": "code",
      "execution_count": 28,
      "metadata": {
        "id": "UO83ZamseFCS"
      },
      "outputs": [],
      "source": [
        "import warnings\n",
        "warnings.filterwarnings(\"ignore\")\n",
        "\n",
        "## For data\n",
        "import pandas as pd\n",
        "import numpy as np\n",
        "\n",
        "## For plotting\n",
        "import matplotlib.pyplot as plt\n",
        "import seaborn as sns\n",
        "sns.set_theme(style=\"darkgrid\")\n",
        "sns.set_context(\"notebook\", font_scale=1.25)\n",
        "\n",
        "## For outliers detection\n",
        "from sklearn import preprocessing, svm\n",
        "## For stationarity test and decomposition\n",
        "import statsmodels.tsa.api as smt\n",
        "import statsmodels.api as sm"
      ]
    },
    {
      "cell_type": "markdown",
      "source": [
        "- Carga de datos:"
      ],
      "metadata": {
        "id": "h2YqQOMTgA37"
      }
    },
    {
      "cell_type": "code",
      "source": [
        "Datos = pd.read_csv(\"https://raw.githubusercontent.com/Rondamon/2022_Mentoria_LluviasExtremas\\\n",
        "/master/dataset/datos_diarios_cordoba.csv\")#, parse_dates = True, index_col=\"fecha\")\n",
        "id_Datos = pd.read_csv(\"https://raw.githubusercontent.com/Rondamon/2022_Mentoria_LluviasExtremas\\\n",
        "/master/dataset/metadatos_estaciones.csv\")"
      ],
      "metadata": {
        "id": "HL7DrZqKGnvj"
      },
      "execution_count": 29,
      "outputs": []
    },
    {
      "cell_type": "markdown",
      "source": [
        "- Creando el diccionario de datos:"
      ],
      "metadata": {
        "id": "URP6bRUmgHkG"
      }
    },
    {
      "cell_type": "code",
      "source": [
        "stations_dataset = id_Datos.copy()\n",
        "dataset = Datos.copy()\n",
        "stations = stations_dataset.set_index('omm_id')['nombre'].to_dict()\n",
        "print(stations)\n",
        "elevs = stations_dataset.set_index('omm_id')['elev'].to_dict()\n",
        "print(elevs)"
      ],
      "metadata": {
        "colab": {
          "base_uri": "https://localhost:8080/"
        },
        "id": "UbkPT-zzIE_1",
        "outputId": "db393fa1-0a14-4af5-fbf0-7aa889c29c81"
      },
      "execution_count": 30,
      "outputs": [
        {
          "output_type": "stream",
          "name": "stdout",
          "text": [
            "{87244: 'Villa Maria del Rio Seco', 87328: 'Villa Dolores Aero', 87344: 'Cordoba Aero', 87345: 'Cordoba Obs.', 87349: 'Pilar Obs.', 87466: 'Marcos Juarez INTA', 87453: 'Rio Cuarto Aero', 87467: 'Marcos Juarez Aero', 87534: 'Laboulaye Aero', 9987009: 'Manfredi INTA', 9987013: 'Capilla del Monte INTA', 9987015: 'Canals INTA', 1: 'La Florida', 2: 'Pueblo Andino'}\n",
            "{87244: 341, 87328: 569, 87344: 474, 87345: 426, 87349: 338, 87466: 110, 87453: 421, 87467: 114, 87534: 137, 9987009: 292, 9987013: 984, 9987015: 125, 1: 1090, 2: 9}\n"
          ]
        }
      ]
    },
    {
      "cell_type": "markdown",
      "source": [
        "- Incorporando el nombre de la estación y su correspondiente elevación:"
      ],
      "metadata": {
        "id": "hhlkAUUHgOIy"
      }
    },
    {
      "cell_type": "code",
      "source": [
        "dataset_with_stations = dataset.copy()\n",
        "dataset_with_stations['station'] = dataset_with_stations['omm_id'].replace(stations)\n",
        "dataset_with_stations['station_elev'] = dataset_with_stations['omm_id'].replace(elevs)\n",
        "dataset_with_stations.reset_index(inplace=True)\n"
      ],
      "metadata": {
        "id": "BJXfAqBlaj3R"
      },
      "execution_count": 31,
      "outputs": []
    },
    {
      "cell_type": "markdown",
      "source": [
        "- Filtrado de datos para estaciones de interes:"
      ],
      "metadata": {
        "id": "hMIF39HpcCje"
      }
    },
    {
      "cell_type": "code",
      "source": [
        "# datos_dcor_filtered = dataset_with_stations.query('omm_id == 87467|omm_id ==1')\n",
        "# 87244 - Villa Maria del rio seco & Marcos juarez -87467\n",
        "datos_dcor_filtered = dataset_with_stations.query('omm_id == 87467|omm_id == 87244')\n",
        "datos_dcor_filtered.head(3)\n",
        "datos_dcor_filtered.reset_index(inplace=True)\n",
        "datos_dcor_filtered.drop(['level_0', 'index'], axis=1, inplace=True)\n",
        "datos_dcor_filtered"
      ],
      "metadata": {
        "id": "yVXB-niKbLh6",
        "outputId": "92ccd474-72e2-4d12-9e8a-2001aa5e34a1",
        "colab": {
          "base_uri": "https://localhost:8080/",
          "height": 835
        }
      },
      "execution_count": 32,
      "outputs": [
        {
          "output_type": "execute_result",
          "data": {
            "text/plain": [
              "           id  omm_id     fecha  helio    hr  nub  prcp  pres_est  pres_nm  \\\n",
              "0           1   87244  1/1/1961    NaN  62.0  0.0   0.0     965.9      NaN   \n",
              "1           2   87244  1/2/1961    NaN  66.0  6.0  28.0     969.9      NaN   \n",
              "2           3   87244  1/3/1961    NaN  92.0  8.0  15.4     972.6      NaN   \n",
              "3           4   87244  1/4/1961    NaN  84.0  5.0   0.0     969.6      NaN   \n",
              "4           5   87244  1/5/1961    NaN  84.0  5.0   3.6     965.6      NaN   \n",
              "...       ...     ...       ...    ...   ...  ...   ...       ...      ...   \n",
              "43109  169736   87467  1/4/2020   11.6  76.0  1.0   0.0     997.3   1010.4   \n",
              "43110  169737   87467  1/5/2020   12.0  73.0  4.0  29.0     988.9   1002.0   \n",
              "43111  169738   87467  1/6/2020    8.0  76.0  6.0   0.0     994.0   1007.2   \n",
              "43112  169739   87467  1/7/2020   11.7  68.0  0.0   0.0     995.1   1008.4   \n",
              "43113  169740   87467  1/8/2020   11.4  63.0  1.0  51.0     992.1   1005.1   \n",
              "\n",
              "         td  tmax  tmed  tmin  vmax_d  vmax_f  vmed  caudal  \\\n",
              "0      15.9  32.3  25.1  13.5     NaN     NaN   1.0     NaN   \n",
              "1      15.5  27.5  22.2  18.3     NaN     NaN   1.0     NaN   \n",
              "2      13.1  21.7  14.4  12.9     NaN     NaN   4.5     NaN   \n",
              "3      17.4  23.1  20.4  13.9     NaN     NaN   0.3     NaN   \n",
              "4      17.8  23.9  20.7  15.5     NaN     NaN   1.5     NaN   \n",
              "...     ...   ...   ...   ...     ...     ...   ...     ...   \n",
              "43109  17.8  30.0  22.8  15.6     5.0     8.2   3.3     NaN   \n",
              "43110  18.2  31.2  23.9  15.4    27.0    21.6   4.6     NaN   \n",
              "43111  14.3  26.1  19.6  15.6     9.0     8.2   4.4     NaN   \n",
              "43112  14.0  30.3  20.9  11.1     2.0     7.2   3.0     NaN   \n",
              "43113  16.1  33.0  24.1  14.1    14.0    15.9   5.5     NaN   \n",
              "\n",
              "                        station  station_elev  \n",
              "0      Villa Maria del Rio Seco           341  \n",
              "1      Villa Maria del Rio Seco           341  \n",
              "2      Villa Maria del Rio Seco           341  \n",
              "3      Villa Maria del Rio Seco           341  \n",
              "4      Villa Maria del Rio Seco           341  \n",
              "...                         ...           ...  \n",
              "43109        Marcos Juarez Aero           114  \n",
              "43110        Marcos Juarez Aero           114  \n",
              "43111        Marcos Juarez Aero           114  \n",
              "43112        Marcos Juarez Aero           114  \n",
              "43113        Marcos Juarez Aero           114  \n",
              "\n",
              "[43114 rows x 19 columns]"
            ],
            "text/html": [
              "\n",
              "  <div id=\"df-20cc4e61-8bb2-41d7-a3db-3167db8c0f68\">\n",
              "    <div class=\"colab-df-container\">\n",
              "      <div>\n",
              "<style scoped>\n",
              "    .dataframe tbody tr th:only-of-type {\n",
              "        vertical-align: middle;\n",
              "    }\n",
              "\n",
              "    .dataframe tbody tr th {\n",
              "        vertical-align: top;\n",
              "    }\n",
              "\n",
              "    .dataframe thead th {\n",
              "        text-align: right;\n",
              "    }\n",
              "</style>\n",
              "<table border=\"1\" class=\"dataframe\">\n",
              "  <thead>\n",
              "    <tr style=\"text-align: right;\">\n",
              "      <th></th>\n",
              "      <th>id</th>\n",
              "      <th>omm_id</th>\n",
              "      <th>fecha</th>\n",
              "      <th>helio</th>\n",
              "      <th>hr</th>\n",
              "      <th>nub</th>\n",
              "      <th>prcp</th>\n",
              "      <th>pres_est</th>\n",
              "      <th>pres_nm</th>\n",
              "      <th>td</th>\n",
              "      <th>tmax</th>\n",
              "      <th>tmed</th>\n",
              "      <th>tmin</th>\n",
              "      <th>vmax_d</th>\n",
              "      <th>vmax_f</th>\n",
              "      <th>vmed</th>\n",
              "      <th>caudal</th>\n",
              "      <th>station</th>\n",
              "      <th>station_elev</th>\n",
              "    </tr>\n",
              "  </thead>\n",
              "  <tbody>\n",
              "    <tr>\n",
              "      <th>0</th>\n",
              "      <td>1</td>\n",
              "      <td>87244</td>\n",
              "      <td>1/1/1961</td>\n",
              "      <td>NaN</td>\n",
              "      <td>62.0</td>\n",
              "      <td>0.0</td>\n",
              "      <td>0.0</td>\n",
              "      <td>965.9</td>\n",
              "      <td>NaN</td>\n",
              "      <td>15.9</td>\n",
              "      <td>32.3</td>\n",
              "      <td>25.1</td>\n",
              "      <td>13.5</td>\n",
              "      <td>NaN</td>\n",
              "      <td>NaN</td>\n",
              "      <td>1.0</td>\n",
              "      <td>NaN</td>\n",
              "      <td>Villa Maria del Rio Seco</td>\n",
              "      <td>341</td>\n",
              "    </tr>\n",
              "    <tr>\n",
              "      <th>1</th>\n",
              "      <td>2</td>\n",
              "      <td>87244</td>\n",
              "      <td>1/2/1961</td>\n",
              "      <td>NaN</td>\n",
              "      <td>66.0</td>\n",
              "      <td>6.0</td>\n",
              "      <td>28.0</td>\n",
              "      <td>969.9</td>\n",
              "      <td>NaN</td>\n",
              "      <td>15.5</td>\n",
              "      <td>27.5</td>\n",
              "      <td>22.2</td>\n",
              "      <td>18.3</td>\n",
              "      <td>NaN</td>\n",
              "      <td>NaN</td>\n",
              "      <td>1.0</td>\n",
              "      <td>NaN</td>\n",
              "      <td>Villa Maria del Rio Seco</td>\n",
              "      <td>341</td>\n",
              "    </tr>\n",
              "    <tr>\n",
              "      <th>2</th>\n",
              "      <td>3</td>\n",
              "      <td>87244</td>\n",
              "      <td>1/3/1961</td>\n",
              "      <td>NaN</td>\n",
              "      <td>92.0</td>\n",
              "      <td>8.0</td>\n",
              "      <td>15.4</td>\n",
              "      <td>972.6</td>\n",
              "      <td>NaN</td>\n",
              "      <td>13.1</td>\n",
              "      <td>21.7</td>\n",
              "      <td>14.4</td>\n",
              "      <td>12.9</td>\n",
              "      <td>NaN</td>\n",
              "      <td>NaN</td>\n",
              "      <td>4.5</td>\n",
              "      <td>NaN</td>\n",
              "      <td>Villa Maria del Rio Seco</td>\n",
              "      <td>341</td>\n",
              "    </tr>\n",
              "    <tr>\n",
              "      <th>3</th>\n",
              "      <td>4</td>\n",
              "      <td>87244</td>\n",
              "      <td>1/4/1961</td>\n",
              "      <td>NaN</td>\n",
              "      <td>84.0</td>\n",
              "      <td>5.0</td>\n",
              "      <td>0.0</td>\n",
              "      <td>969.6</td>\n",
              "      <td>NaN</td>\n",
              "      <td>17.4</td>\n",
              "      <td>23.1</td>\n",
              "      <td>20.4</td>\n",
              "      <td>13.9</td>\n",
              "      <td>NaN</td>\n",
              "      <td>NaN</td>\n",
              "      <td>0.3</td>\n",
              "      <td>NaN</td>\n",
              "      <td>Villa Maria del Rio Seco</td>\n",
              "      <td>341</td>\n",
              "    </tr>\n",
              "    <tr>\n",
              "      <th>4</th>\n",
              "      <td>5</td>\n",
              "      <td>87244</td>\n",
              "      <td>1/5/1961</td>\n",
              "      <td>NaN</td>\n",
              "      <td>84.0</td>\n",
              "      <td>5.0</td>\n",
              "      <td>3.6</td>\n",
              "      <td>965.6</td>\n",
              "      <td>NaN</td>\n",
              "      <td>17.8</td>\n",
              "      <td>23.9</td>\n",
              "      <td>20.7</td>\n",
              "      <td>15.5</td>\n",
              "      <td>NaN</td>\n",
              "      <td>NaN</td>\n",
              "      <td>1.5</td>\n",
              "      <td>NaN</td>\n",
              "      <td>Villa Maria del Rio Seco</td>\n",
              "      <td>341</td>\n",
              "    </tr>\n",
              "    <tr>\n",
              "      <th>...</th>\n",
              "      <td>...</td>\n",
              "      <td>...</td>\n",
              "      <td>...</td>\n",
              "      <td>...</td>\n",
              "      <td>...</td>\n",
              "      <td>...</td>\n",
              "      <td>...</td>\n",
              "      <td>...</td>\n",
              "      <td>...</td>\n",
              "      <td>...</td>\n",
              "      <td>...</td>\n",
              "      <td>...</td>\n",
              "      <td>...</td>\n",
              "      <td>...</td>\n",
              "      <td>...</td>\n",
              "      <td>...</td>\n",
              "      <td>...</td>\n",
              "      <td>...</td>\n",
              "      <td>...</td>\n",
              "    </tr>\n",
              "    <tr>\n",
              "      <th>43109</th>\n",
              "      <td>169736</td>\n",
              "      <td>87467</td>\n",
              "      <td>1/4/2020</td>\n",
              "      <td>11.6</td>\n",
              "      <td>76.0</td>\n",
              "      <td>1.0</td>\n",
              "      <td>0.0</td>\n",
              "      <td>997.3</td>\n",
              "      <td>1010.4</td>\n",
              "      <td>17.8</td>\n",
              "      <td>30.0</td>\n",
              "      <td>22.8</td>\n",
              "      <td>15.6</td>\n",
              "      <td>5.0</td>\n",
              "      <td>8.2</td>\n",
              "      <td>3.3</td>\n",
              "      <td>NaN</td>\n",
              "      <td>Marcos Juarez Aero</td>\n",
              "      <td>114</td>\n",
              "    </tr>\n",
              "    <tr>\n",
              "      <th>43110</th>\n",
              "      <td>169737</td>\n",
              "      <td>87467</td>\n",
              "      <td>1/5/2020</td>\n",
              "      <td>12.0</td>\n",
              "      <td>73.0</td>\n",
              "      <td>4.0</td>\n",
              "      <td>29.0</td>\n",
              "      <td>988.9</td>\n",
              "      <td>1002.0</td>\n",
              "      <td>18.2</td>\n",
              "      <td>31.2</td>\n",
              "      <td>23.9</td>\n",
              "      <td>15.4</td>\n",
              "      <td>27.0</td>\n",
              "      <td>21.6</td>\n",
              "      <td>4.6</td>\n",
              "      <td>NaN</td>\n",
              "      <td>Marcos Juarez Aero</td>\n",
              "      <td>114</td>\n",
              "    </tr>\n",
              "    <tr>\n",
              "      <th>43111</th>\n",
              "      <td>169738</td>\n",
              "      <td>87467</td>\n",
              "      <td>1/6/2020</td>\n",
              "      <td>8.0</td>\n",
              "      <td>76.0</td>\n",
              "      <td>6.0</td>\n",
              "      <td>0.0</td>\n",
              "      <td>994.0</td>\n",
              "      <td>1007.2</td>\n",
              "      <td>14.3</td>\n",
              "      <td>26.1</td>\n",
              "      <td>19.6</td>\n",
              "      <td>15.6</td>\n",
              "      <td>9.0</td>\n",
              "      <td>8.2</td>\n",
              "      <td>4.4</td>\n",
              "      <td>NaN</td>\n",
              "      <td>Marcos Juarez Aero</td>\n",
              "      <td>114</td>\n",
              "    </tr>\n",
              "    <tr>\n",
              "      <th>43112</th>\n",
              "      <td>169739</td>\n",
              "      <td>87467</td>\n",
              "      <td>1/7/2020</td>\n",
              "      <td>11.7</td>\n",
              "      <td>68.0</td>\n",
              "      <td>0.0</td>\n",
              "      <td>0.0</td>\n",
              "      <td>995.1</td>\n",
              "      <td>1008.4</td>\n",
              "      <td>14.0</td>\n",
              "      <td>30.3</td>\n",
              "      <td>20.9</td>\n",
              "      <td>11.1</td>\n",
              "      <td>2.0</td>\n",
              "      <td>7.2</td>\n",
              "      <td>3.0</td>\n",
              "      <td>NaN</td>\n",
              "      <td>Marcos Juarez Aero</td>\n",
              "      <td>114</td>\n",
              "    </tr>\n",
              "    <tr>\n",
              "      <th>43113</th>\n",
              "      <td>169740</td>\n",
              "      <td>87467</td>\n",
              "      <td>1/8/2020</td>\n",
              "      <td>11.4</td>\n",
              "      <td>63.0</td>\n",
              "      <td>1.0</td>\n",
              "      <td>51.0</td>\n",
              "      <td>992.1</td>\n",
              "      <td>1005.1</td>\n",
              "      <td>16.1</td>\n",
              "      <td>33.0</td>\n",
              "      <td>24.1</td>\n",
              "      <td>14.1</td>\n",
              "      <td>14.0</td>\n",
              "      <td>15.9</td>\n",
              "      <td>5.5</td>\n",
              "      <td>NaN</td>\n",
              "      <td>Marcos Juarez Aero</td>\n",
              "      <td>114</td>\n",
              "    </tr>\n",
              "  </tbody>\n",
              "</table>\n",
              "<p>43114 rows × 19 columns</p>\n",
              "</div>\n",
              "      <button class=\"colab-df-convert\" onclick=\"convertToInteractive('df-20cc4e61-8bb2-41d7-a3db-3167db8c0f68')\"\n",
              "              title=\"Convert this dataframe to an interactive table.\"\n",
              "              style=\"display:none;\">\n",
              "        \n",
              "  <svg xmlns=\"http://www.w3.org/2000/svg\" height=\"24px\"viewBox=\"0 0 24 24\"\n",
              "       width=\"24px\">\n",
              "    <path d=\"M0 0h24v24H0V0z\" fill=\"none\"/>\n",
              "    <path d=\"M18.56 5.44l.94 2.06.94-2.06 2.06-.94-2.06-.94-.94-2.06-.94 2.06-2.06.94zm-11 1L8.5 8.5l.94-2.06 2.06-.94-2.06-.94L8.5 2.5l-.94 2.06-2.06.94zm10 10l.94 2.06.94-2.06 2.06-.94-2.06-.94-.94-2.06-.94 2.06-2.06.94z\"/><path d=\"M17.41 7.96l-1.37-1.37c-.4-.4-.92-.59-1.43-.59-.52 0-1.04.2-1.43.59L10.3 9.45l-7.72 7.72c-.78.78-.78 2.05 0 2.83L4 21.41c.39.39.9.59 1.41.59.51 0 1.02-.2 1.41-.59l7.78-7.78 2.81-2.81c.8-.78.8-2.07 0-2.86zM5.41 20L4 18.59l7.72-7.72 1.47 1.35L5.41 20z\"/>\n",
              "  </svg>\n",
              "      </button>\n",
              "      \n",
              "  <style>\n",
              "    .colab-df-container {\n",
              "      display:flex;\n",
              "      flex-wrap:wrap;\n",
              "      gap: 12px;\n",
              "    }\n",
              "\n",
              "    .colab-df-convert {\n",
              "      background-color: #E8F0FE;\n",
              "      border: none;\n",
              "      border-radius: 50%;\n",
              "      cursor: pointer;\n",
              "      display: none;\n",
              "      fill: #1967D2;\n",
              "      height: 32px;\n",
              "      padding: 0 0 0 0;\n",
              "      width: 32px;\n",
              "    }\n",
              "\n",
              "    .colab-df-convert:hover {\n",
              "      background-color: #E2EBFA;\n",
              "      box-shadow: 0px 1px 2px rgba(60, 64, 67, 0.3), 0px 1px 3px 1px rgba(60, 64, 67, 0.15);\n",
              "      fill: #174EA6;\n",
              "    }\n",
              "\n",
              "    [theme=dark] .colab-df-convert {\n",
              "      background-color: #3B4455;\n",
              "      fill: #D2E3FC;\n",
              "    }\n",
              "\n",
              "    [theme=dark] .colab-df-convert:hover {\n",
              "      background-color: #434B5C;\n",
              "      box-shadow: 0px 1px 3px 1px rgba(0, 0, 0, 0.15);\n",
              "      filter: drop-shadow(0px 1px 2px rgba(0, 0, 0, 0.3));\n",
              "      fill: #FFFFFF;\n",
              "    }\n",
              "  </style>\n",
              "\n",
              "      <script>\n",
              "        const buttonEl =\n",
              "          document.querySelector('#df-20cc4e61-8bb2-41d7-a3db-3167db8c0f68 button.colab-df-convert');\n",
              "        buttonEl.style.display =\n",
              "          google.colab.kernel.accessAllowed ? 'block' : 'none';\n",
              "\n",
              "        async function convertToInteractive(key) {\n",
              "          const element = document.querySelector('#df-20cc4e61-8bb2-41d7-a3db-3167db8c0f68');\n",
              "          const dataTable =\n",
              "            await google.colab.kernel.invokeFunction('convertToInteractive',\n",
              "                                                     [key], {});\n",
              "          if (!dataTable) return;\n",
              "\n",
              "          const docLinkHtml = 'Like what you see? Visit the ' +\n",
              "            '<a target=\"_blank\" href=https://colab.research.google.com/notebooks/data_table.ipynb>data table notebook</a>'\n",
              "            + ' to learn more about interactive tables.';\n",
              "          element.innerHTML = '';\n",
              "          dataTable['output_type'] = 'display_data';\n",
              "          await google.colab.output.renderOutput(dataTable, element);\n",
              "          const docLink = document.createElement('div');\n",
              "          docLink.innerHTML = docLinkHtml;\n",
              "          element.appendChild(docLink);\n",
              "        }\n",
              "      </script>\n",
              "    </div>\n",
              "  </div>\n",
              "  "
            ]
          },
          "metadata": {},
          "execution_count": 32
        }
      ]
    },
    {
      "cell_type": "markdown",
      "source": [
        "- Calculo de los valores faltantes:"
      ],
      "metadata": {
        "id": "SBNHAuK7gbi_"
      }
    },
    {
      "cell_type": "code",
      "source": [
        "missing_values_count = datos_dcor_filtered.isna().sum()\n",
        "missing_values_count.sort_values()"
      ],
      "metadata": {
        "id": "Q_mNEH_Wdakb",
        "outputId": "e386f605-aa96-4064-8c33-4a60e3183d3b",
        "colab": {
          "base_uri": "https://localhost:8080/"
        }
      },
      "execution_count": 33,
      "outputs": [
        {
          "output_type": "execute_result",
          "data": {
            "text/plain": [
              "id                  0\n",
              "station             0\n",
              "station_elev        0\n",
              "omm_id              0\n",
              "fecha               0\n",
              "prcp              146\n",
              "vmed              407\n",
              "nub               408\n",
              "tmed              422\n",
              "td                763\n",
              "hr                809\n",
              "pres_est         1150\n",
              "tmax             1234\n",
              "tmin             3506\n",
              "vmax_f           5948\n",
              "vmax_d           5949\n",
              "pres_nm         14103\n",
              "helio           22728\n",
              "caudal          43114\n",
              "dtype: int64"
            ]
          },
          "metadata": {},
          "execution_count": 33
        }
      ]
    },
    {
      "cell_type": "markdown",
      "source": [
        "- Estimamos el porcentaje de datos faltantes y los visualizamos:"
      ],
      "metadata": {
        "id": "qGheIlu7gnIy"
      }
    },
    {
      "cell_type": "code",
      "source": [
        "# how many total missing values do we have?\n",
        "total_cells = np.product(datos_dcor_filtered.shape)\n",
        "total_missing = missing_values_count.sum()\n",
        "\n",
        "# percent of data that is missing\n",
        "print(f'porcentaje de faltantes en la base de datos: {((total_missing/total_cells) * 100):2f}')"
      ],
      "metadata": {
        "id": "qBC01_f1dnoh",
        "outputId": "42b783f5-68da-4b40-9c24-e0888a8e3ce0",
        "colab": {
          "base_uri": "https://localhost:8080/"
        }
      },
      "execution_count": 34,
      "outputs": [
        {
          "output_type": "stream",
          "name": "stdout",
          "text": [
            "porcentaje de faltantes en la base de datos: 12.291404\n"
          ]
        }
      ]
    },
    {
      "cell_type": "code",
      "source": [
        "import missingno as msno\n",
        "msno.matrix(datos_dcor_filtered.query('omm_id == 87467'),figsize=(20, 6), fontsize=12, color=[0,0,0.2])"
      ],
      "metadata": {
        "id": "-_oN88xVdzj_",
        "outputId": "ba43a30f-1724-4ff8-983f-97a8331d3111",
        "colab": {
          "base_uri": "https://localhost:8080/",
          "height": 444
        }
      },
      "execution_count": 35,
      "outputs": [
        {
          "output_type": "execute_result",
          "data": {
            "text/plain": [
              "<matplotlib.axes._subplots.AxesSubplot at 0x7fa8bbcfd3d0>"
            ]
          },
          "metadata": {},
          "execution_count": 35
        },
        {
          "output_type": "display_data",
          "data": {
            "text/plain": [
              "<Figure size 1440x432 with 2 Axes>"
            ],
            "image/png": "[encoded data removed]"
          },
          "metadata": {}
        }
      ]
    },
    {
      "cell_type": "code",
      "source": [
        "import missingno as msno\n",
        "msno.matrix(datos_dcor_filtered.query('omm_id == 87244'),figsize=(20, 6), fontsize=12, color=[0,0,0.2])"
      ],
      "metadata": {
        "id": "4xN6ZvhnhgCc",
        "outputId": "8a8a37fb-1921-4ff8-b013-2838bb39a412",
        "colab": {
          "base_uri": "https://localhost:8080/",
          "height": 473
        }
      },
      "execution_count": 36,
      "outputs": [
        {
          "output_type": "execute_result",
          "data": {
            "text/plain": [
              "<matplotlib.axes._subplots.AxesSubplot at 0x7fa8bc1fe390>"
            ]
          },
          "metadata": {},
          "execution_count": 36
        },
        {
          "output_type": "display_data",
          "data": {
            "text/plain": [
              "<Figure size 1440x432 with 2 Axes>"
            ],
            "image/png": "[encoded data removed]"
          },
          "metadata": {}
        }
      ]
    },
    {
      "cell_type": "markdown",
      "source": [
        "- Dado que caudal es una columna que no presenta información decidimos eliminarla del conjunto:"
      ],
      "metadata": {
        "id": "5NmXlUb1lKke"
      }
    },
    {
      "cell_type": "code",
      "source": [
        "# datos_dcor_filtered.columns.tolist()\n",
        "datos_dcor_filtered.drop(['caudal','id','helio'], axis=1, inplace=True)"
      ],
      "metadata": {
        "id": "2m-33P7rkDi8"
      },
      "execution_count": 37,
      "outputs": []
    },
    {
      "cell_type": "markdown",
      "source": [
        "- Prueba - Imputacion:"
      ],
      "metadata": {
        "id": "EO2FzCVgldD8"
      }
    },
    {
      "cell_type": "code",
      "source": [
        "db_87467 = datos_dcor_filtered.query('omm_id == 87467')\n",
        "db_87244 = datos_dcor_filtered.query('omm_id == 87244')\n"
      ],
      "metadata": {
        "id": "WZKLGttMj8pT"
      },
      "execution_count": 38,
      "outputs": []
    },
    {
      "cell_type": "code",
      "source": [
        "def get_hydro_year(date_, start_month=7):\n",
        "    year = date_.strftime('%Y')\n",
        "    month = date_.strftime('%m')\n",
        "    offset = 1 if int(month) >= start_month - 1 else 0\n",
        "    hydro_year = int(year) + offset - 1\n",
        "    return hydro_year"
      ],
      "metadata": {
        "id": "9qlGqzAtH8Vp"
      },
      "execution_count": null,
      "outputs": []
    },
    {
      "cell_type": "code",
      "source": [
        "dataset_with_stations = dataset.copy()\n",
        "dataset_with_stations['station'] = dataset_with_stations['omm_id'].replace(stations)\n",
        "dataset_with_stations.reset_index(inplace=True)\n",
        "not_numeric_cols = ['fecha', 'id', 'omm_id', 'station']\n",
        "numeric_cols = [c for c in dataset_with_stations.columns if c not in not_numeric_cols]\n",
        "\n",
        "for station in dataset_with_stations['station'].unique():\n",
        "  subdf = dataset_with_stations.loc[dataset_with_stations['station']==station,:]\n",
        "  print(f'\\nPara la estación <<{station}>>:\\n')\n",
        "\n",
        "  for count, value in enumerate(subdf.columns):\n",
        "    if value not in not_numeric_cols:\n",
        "      \n",
        "      globals()[f'{value}_min'] = round(subdf[value].min(skipna=True),2)\n",
        "      globals()[f'{value}_max'] = round(subdf[value].max(skipna=True),2)\n",
        "      globals()[f'{value}_range'] = round(eval(f'{value}_max- {value}_min'),2)\n",
        "      print(f'Rango para la variable {value} = ',eval(f'{value}_range'))\n"
      ],
      "metadata": {
        "id": "3UjcwNkAZ7mi"
      },
      "execution_count": null,
      "outputs": []
    },
    {
      "cell_type": "code",
      "source": [
        "dataset_with_hydro_year = Datos.copy()\n",
        "dataset_with_hydro_year.reset_index(inplace=True)\n",
        "dataset_with_hydro_year['hydro_year'] = dataset_with_hydro_year['fecha'].apply(lambda fecha: get_hydro_year(fecha))\n",
        "\n",
        "\n",
        "stations_dataset = id_Datos.copy()\n",
        "dataset = Datos.copy()\n",
        "\n",
        "stations = stations_dataset.set_index('omm_id')['nombre'].to_dict()\n",
        "elevs = stations_dataset.set_index('omm_id')['elev'].to_dict()\n",
        "\n",
        "\n",
        "dataset_with_hydro_year['station'] = dataset_with_hydro_year['omm_id'].replace(stations)\n",
        "dataset_with_hydro_year['station_elev'] = dataset_with_hydro_year['omm_id'].replace(elevs)"
      ],
      "metadata": {
        "id": "PRaRZLVBZJuz"
      },
      "execution_count": null,
      "outputs": []
    },
    {
      "cell_type": "code",
      "source": [
        "dataset_with_hydro_year.info()"
      ],
      "metadata": {
        "id": "b39IjQXIYxRW"
      },
      "execution_count": null,
      "outputs": []
    },
    {
      "cell_type": "code",
      "source": [
        "\n",
        "prcp_mean_by_hydro_year_and_station = dataset_with_hydro_year.groupby(['hydro_year', 'omm_id']).sum()\\\n",
        "['prcp'].groupby(['omm_id']).mean()\n",
        "\n",
        "#Transformo a diccionario de datos key: omm_id y value: prcp/año\n",
        "prcp_mean_by_hydro_year_and_station_dict = prcp_mean_by_hydro_year_and_station.to_frame().to_dict()\n",
        "stations_df_prcp_mean = stations_dataset.copy()\n",
        "\n",
        "stations_df_prcp_mean['prcp_mean'] = stations_dataset['omm_id'].replace(prcp_mean_by_hydro_year_and_station_dict['prcp'])\n",
        "\n",
        "# Extrayendo un subconjunto con las variables de interés:\n",
        "stations_df_prcp_mean[['omm_id', 'nombre', 'elev', 'prcp_mean']]"
      ],
      "metadata": {
        "id": "hOveFslHIh9c"
      },
      "execution_count": null,
      "outputs": []
    },
    {
      "cell_type": "code",
      "source": [
        "# comienza codigo: https://www.dataquest.io/blog/tutorial-time-series-analysis-with-pandas/\n",
        "\n",
        "dtf = pd.read_csv('https://github.com/argennof/M_Predi_Lluvias_Extremas_10/blob/main/bbd_pta_parte_a.csv?raw=true', sep=';')\n",
        "dtf.tail(5)\n",
        "# dtf[\"Date\"] = pd.to_datetime(dtf['Date'], format='%Y-%m-%d')\n",
        "# dtf.head(3)"
      ],
      "metadata": {
        "id": "XG2kZAB8Hhmf"
      },
      "execution_count": null,
      "outputs": []
    },
    {
      "cell_type": "code",
      "source": [
        "datos_dcor_filtered = dtf.query('omm_id == 87467|omm_id ==1')\n",
        "# datos_dcor_filtered.info()\n",
        "\n",
        "# Valores Faltantes:\n",
        "missing_values_count = datos_dcor_filtered.isna().sum()\n",
        "missing_values_count.sort_values()"
      ],
      "metadata": {
        "id": "E1M9-q5zi3LX"
      },
      "execution_count": null,
      "outputs": []
    },
    {
      "cell_type": "code",
      "source": [
        "sns.set(rc={'figure.figsize':(11, 4)})\n",
        "\n",
        "\n",
        "\n",
        "\n",
        "dtf['prcp'].plot(linewidth=0.5);"
      ],
      "metadata": {
        "id": "tfoHbc4qlkjN"
      },
      "execution_count": null,
      "outputs": []
    },
    {
      "cell_type": "code",
      "source": [
        "cols_plot = ['Consumption', 'Solar', 'Wind']\n",
        "axes = dtf[cols_plot].plot(marker='.', alpha=0.5, linestyle='None', figsize=(11, 9), subplots=True)\n",
        "for ax in axes:\n",
        "    ax.set_ylabel('Daily Totals (GWh)')"
      ],
      "metadata": {
        "id": "_Tp9ZTLNlzEQ"
      },
      "execution_count": null,
      "outputs": []
    },
    {
      "cell_type": "markdown",
      "source": [
        "Deteccion de patrones emergentes:\n",
        "-Electricity consumption is highest in winter, \n",
        "\n"
      ],
      "metadata": {
        "id": "9bOImHkZmSQN"
      }
    },
    {
      "cell_type": "code",
      "source": [
        "ax = dtf.loc['2017', 'Consumption'].plot()\n",
        "ax.set_ylabel('Daily Consumption (GWh)');\n"
      ],
      "metadata": {
        "id": "Fn3GZgmwl8Pw"
      },
      "execution_count": null,
      "outputs": []
    },
    {
      "cell_type": "markdown",
      "source": [
        "Aca inicia:\n",
        "- https://towardsdatascience.com/time-series-analysis-for-machine-learning-with-python-626bee0d0205\n",
        "\n",
        "- https://github.com/mdipietro09/DataScience_ArtificialIntelligence_Utils/blob/master/time_series/example_forecast.ipynb"
      ],
      "metadata": {
        "id": "7n4w44Jaz55_"
      }
    },
    {
      "cell_type": "code",
      "source": [
        "## create time series\n",
        "ts = dtf.groupby(\"Date\")[\"Consumption\"].sum().rename(\"consumo_m\")\n",
        "ts.head()\n"
      ],
      "metadata": {
        "id": "9nTRe6Knj3xB"
      },
      "execution_count": null,
      "outputs": []
    },
    {
      "cell_type": "code",
      "source": [
        "print(\"population --> len:\", len(ts), \"| mean:\", round(ts.mean()), \" | std:\", round(ts.std()))\n",
        "w = 30\n",
        "print(\"moving --> len:\", w, \" | mean:\", round(ts.ewm(span=w).mean()[-1]), \" | std:\", round(ts.ewm(span=w).std()[-1]))"
      ],
      "metadata": {
        "id": "QXat1qGppZU8"
      },
      "execution_count": null,
      "outputs": []
    },
    {
      "cell_type": "code",
      "source": [
        "###############################################################################\n",
        "#                         TS ANALYSIS                                         #\n",
        "###############################################################################\n",
        "'''\n",
        "Plot ts with rolling mean and 95% confidence interval with rolling std.\n",
        ":parameter\n",
        "    :param ts: pandas Series\n",
        "    :param window: num for rolling stats\n",
        "    :param plot_intervals: bool - if True plots the conf interval\n",
        "    :param plot_ma: bool - if True plots the moving avg\n",
        "'''\n",
        "def plot_ts(ts, plot_ma=True, plot_intervals=True, window=30, figsize=(15,5)):\n",
        "    rolling_mean = ts.rolling(window=window).mean()\n",
        "    rolling_std = ts.rolling(window=window).std()\n",
        "    plt.figure(figsize=figsize)\n",
        "    plt.title(ts.name)\n",
        "    plt.plot(ts[window:], label='ts', color=\"black\")\n",
        "    if plot_ma:\n",
        "        plt.plot(rolling_mean, 'g', label='MA'+str(window), color=\"red\")\n",
        "    if plot_intervals:\n",
        "        lower_bound = rolling_mean - (1.96 * rolling_std)\n",
        "        upper_bound = rolling_mean + (1.96 * rolling_std)\n",
        "        plt.fill_between(x=ts.index, y1=lower_bound, y2=upper_bound, color='lightskyblue', alpha=0.4)\n",
        "    plt.legend(loc='best')\n",
        "    plt.grid(True)\n",
        "    plt.show()\n",
        "\n",
        "\n",
        "plot_ts(ts, plot_ma=True, plot_intervals=True, window=w, figsize=(15,5))"
      ],
      "metadata": {
        "id": "7_kigw22pjHT"
      },
      "execution_count": null,
      "outputs": []
    },
    {
      "cell_type": "code",
      "source": [
        "def utils_generate_rw(y0, n, sigma, ymin=None, ymax=None):\n",
        "    rw = [y0]\n",
        "    for t in range(1, n):\n",
        "        yt = rw[t-1] + np.random.normal(0,sigma)\n",
        "        if (ymax is not None) and (yt > ymax):\n",
        "            yt = rw[t-1] - abs(np.random.normal(0,sigma))\n",
        "        elif (ymin is not None) and (yt < ymin):\n",
        "            yt = rw[t-1] + abs(np.random.normal(0,sigma))\n",
        "        rw.append(yt)\n",
        "    return rw\n",
        "\n",
        "'''\n",
        "Forecast unknown future.\n",
        ":parameter\n",
        "    :param ts: pandas series\n",
        "    :param pred_ahead: number of observations to forecast (ex. pred_ahead=30)\n",
        "    :param end: string - date to forecast (ex. end=\"2016-12-31\")\n",
        "    :param zoom: for plotting\n",
        ":return\n",
        "    dtf with columns \"ts\", \"model\", \"residuals\", \"lower\", \"forecast\", \"upper\" (No error)\n",
        "'''\n",
        "def forecast_rw(ts, pred_ahead=None, end=None, conf=0.95, zoom=30, figsize=(15,5)):\n",
        "    ## fit\n",
        "    diff_ts = ts - ts.shift(1)\n",
        "    sigma = diff_ts.std()\n",
        "    rw = utils_generate_rw(y0=ts[0], n=len(ts), sigma=sigma, ymin=ts.min(), ymax=ts.max())\n",
        "    dtf = ts.to_frame(name=\"ts\").merge(pd.DataFrame(rw, index=ts.index, columns=[\"model\"]), \n",
        "                                       how='left', left_index=True, right_index=True)\n",
        "    \n",
        "    ## index\n",
        "    freq = ts.index.inferred_freq[0]\n",
        "    index = utils_generate_indexdate(start=ts.index[-1], end=end, n=pred_ahead, freq=freq)\n",
        "    \n",
        "    ## forecast\n",
        "    preds = utils_generate_rw(y0=ts[-1], n=len(index), sigma=sigma, ymin=ts.min(), ymax=ts.max())\n",
        "    dtf = dtf.append(pd.DataFrame(data=preds, index=index, columns=[\"forecast\"]))\n",
        "    \n",
        "    ## add intervals and plot\n",
        "    dtf = utils_add_forecast_int(dtf, conf=conf, zoom=zoom)\n",
        "    return dtf\n",
        "    \n"
      ],
      "metadata": {
        "id": "hpTz9YrEq4ak"
      },
      "execution_count": null,
      "outputs": []
    }
  ],
  "metadata": {
    "kernelspec": {
      "display_name": "Python 3 (ipykernel)",
      "language": "python",
      "name": "python3"
    },
    "language_info": {
      "codemirror_mode": {
        "name": "ipython",
        "version": 3
      },
      "file_extension": ".py",
      "mimetype": "text/x-python",
      "name": "python",
      "nbconvert_exporter": "python",
      "pygments_lexer": "ipython3",
      "version": "3.9.7"
    },
    "colab": {
      "name": "TP3.ipynb",
      "provenance": [],
      "include_colab_link": true
    }
  },
  "nbformat": 4,
  "nbformat_minor": 0
}