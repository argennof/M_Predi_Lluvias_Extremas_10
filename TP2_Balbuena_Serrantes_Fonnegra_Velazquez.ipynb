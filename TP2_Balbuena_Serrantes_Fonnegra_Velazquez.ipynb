{
  "cells": [
    {
      "cell_type": "markdown",
      "metadata": {
        "id": "view-in-github",
        "colab_type": "text"
      },
      "source": [
        "<a href=\"https://colab.research.google.com/github/argennof/M_Predi_Lluvias_Extremas_10/blob/main/TP2_Balbuena_Serrantes_Fonnegra_Velazquez.ipynb\" target=\"_parent\"><img src=\"https://colab.research.google.com/assets/colab-badge.svg\" alt=\"Open In Colab\"/></a>"
      ]
    },
    {
      "cell_type": "markdown",
      "metadata": {
        "id": "iWBsZDMaKYJC"
      },
      "source": [
        "# Mentoría \"Predicción de lluvias extremas\"\n",
        "\n",
        "- Grupo 1:\n",
        "  - Florencia Balbuena\n",
        "  - Sebastián Serantes\n",
        "  - Diana Fonnegra\n",
        "  - Laura Velazquez"
      ]
    },
    {
      "cell_type": "markdown",
      "metadata": {
        "id": "26AxazC0KYJd"
      },
      "source": [
        "# TP 2: Análisis y Curación de Datos"
      ]
    },
    {
      "cell_type": "code",
      "execution_count": 61,
      "metadata": {
        "id": "rw6TQp_LKYJg"
      },
      "outputs": [],
      "source": [
        "import pandas as pd\n",
        "# import funciones \n",
        "# from funciones import get_hydro_year\n",
        "\n",
        "Datos = pd.read_csv(\"https://raw.githubusercontent.com/Rondamon/2022_Mentoria_LluviasExtremas/master/dataset/datos_diarios_cordoba.csv\",\\\n",
        "                    parse_dates = True, index_col=\"fecha\")\n",
        "id_Datos = pd.read_csv(\"https://raw.githubusercontent.com/Rondamon/2022_Mentoria_LluviasExtremas\\\n",
        "/master/dataset/metadatos_estaciones.csv\")"
      ]
    },
    {
      "cell_type": "markdown",
      "metadata": {
        "id": "xN9NVgCCKYJo"
      },
      "source": [
        "## CONSIGNA TP2:\n",
        "\n",
        "En este TP, nos enfocaremos en la cuenca del río Carcarañá. Por lo tanto, las estaciones que utilizaremos del dataset anterior son las siguientes:\n",
        "- Pilar\n",
        "- Rio Cuarto\n",
        "- Marcos Juarez\n",
        "- La Florida\n",
        "- Pueblo Andino\n",
        "\n",
        "En todos los casos, considerar el año hidrológico como del 1/agosto al 31/julio.\n",
        "\n",
        "\n",
        "## 1. Análisis y curación de datos de una API - formato JSON\n",
        "\n",
        "Referencias: https://darksky.net/dev/docs\n",
        "\n",
        "  1. Extraer los datos para las coordenadas de las estaciones antes indicadas.\n",
        "  2. ¿Cuántos años de datos hay?\n",
        "  3. ¿Existen valores faltantes? Cuantificarlos.\n",
        "  3. Generar un nuevo dataset a partir de los datos (time, summary, precipAccumulation, temperature, humidity, pressure, windSpeed, uvIndex, temperatureMin, temperatureMax.\n",
        "  4. Hacer las conversiones de unidades necesarias a estos datos para poder compararlos con el dataset \"datos_diarios_cordoba.csv\".\n",
        "  5. Comparar los estadísticos de estos datasets con los de cada estación.\n",
        "\n",
        "\n",
        "## 2. Análisis y curación de datos de un Excel y un TXT\n",
        "\n",
        "Referencias TerraClimate: http://www.climatologylab.org/terraclimate.html\n",
        "\n",
        "  1. Leer los datos de \"TerraClimate.csv\" y determinar para cada variable los valores promedios anuales (correspondiente a cada año hidrológico).\n",
        "  2. Hacer las conversiones de unidades necesarias para poder compararlos con cada estación.\n",
        "  3. Determinar para las estaciones de la cuenca del Carcarañá, los valores promedios anuales (año hidrológico) y comparar los estadísticos de este dataset con los de \"datos_diarios_cordoba.csv\".\n",
        "  4. Utilizar el dataset de TerraClimate para rellenar los datos faltantes en \"datos_diarios_cordoba.csv\" y guardar como un dataset nuevo. Hacer esto para todas las variables salvo para lluvia.\n",
        "  5. Agregar las demás variables del dataset de TerraClimate al creado en el punto 4. \n",
        "\n",
        "\n",
        "## 3. Análisis y curación de datos de un Excel y un TXT\n",
        "\n",
        "Referencias CHIRPS: https://disasters.nasa.gov/instruments/imerg\n",
        "\n",
        "  1. En cada año hidrológico, leer los datos de \"CHIRPS.txt\" y determinar la Precipitaciones Máximas Diarias Anuales (PMDA) y las Precipitaciones Totales Anuales para cada estación.\n",
        "  2. Graficar y comparar los estadísticos de estos datasets con los de cada estación (dataset \"datos_diarios_cordoba.csv\").\n",
        "  3. ¿Es posible rellenar la serie del dataset \"datos_diarios_cordoba.csv\"?\n",
        "  4. Agregar los nuevos features al dataset creado en el punto 5 de la parte 2 y exportar el dataset nuevo en formato csv.\n",
        "  5. A partir del dataset del punto 4, elaborar matrices de correlación entre las diferentes variables y las series de Precipitaciones Máximas Diarias Anuales (PMDA) para cada estación.\n",
        "\n",
        "\n",
        "## 4. Análisis y curación de Índices Climáticos en Excel\n",
        "\n",
        "Referencias: https://psl.noaa.gov/data/climateindices/list/\n",
        "\n",
        "  1. Leer el archivo \"indices_clim.xlsx\" y evaluar la cantidad de valores faltantes.\n",
        "  2. Convertir los datos faltantes en NaN.\n",
        "  3. Hacer matrices de correlación entre los diferentes índices climáticos y las series de Precipitaciones Máximas Diarias Anuales (PMDA) en las diferentes estaciones. Hacer esto para cada año hidrológico.\n",
        "  4. Repetir lo mismo para la serie de caudales máximos diarios anuales (QMDA) en Pueblo Andino."
      ]
    },
    {
      "cell_type": "markdown",
      "metadata": {
        "id": "o9J_yRutKYJx"
      },
      "source": [
        "### Rta//\n",
        "### Parte 1:"
      ]
    },
    {
      "cell_type": "code",
      "source": [
        "def get_hydro_year(date_, start_month=7):\n",
        "\n",
        "  '''\n",
        "  Función que define el año hidrológico\n",
        "  en el caso del proyecto este se define entre el -> 1/agosto al 31/julio\n",
        "  '''\n",
        "\n",
        "  year = date_.strftime('%Y')\n",
        "  month = date_.strftime('%m')\n",
        "  offset = 1 if int(month) >= start_month - 1 else 0\n",
        "  hydro_year = int(year) + offset - 1\n",
        "  return hydro_year"
      ],
      "metadata": {
        "id": "Jqf1JX4zoQQ7"
      },
      "execution_count": null,
      "outputs": []
    },
    {
      "cell_type": "markdown",
      "metadata": {
        "id": "8rR7T8IuzCBp"
      },
      "source": [
        "\n",
        "  1. Extraer los datos para las coordenadas de las estaciones:\n",
        " - Pilar\n",
        "- Rio Cuarto\n",
        "- Marcos Juarez\n",
        "- La Florida\n",
        "- Pueblo Andino\n",
        "\n",
        "- En todos los casos, considerar el año hidrológico como del 1/agosto al 31/julio.\n",
        "\n",
        "\n",
        "\n"
      ]
    },
    {
      "cell_type": "markdown",
      "metadata": {
        "id": "foBVyiqn0B__"
      },
      "source": [
        "\n",
        "\n",
        "#### 1 a) Importamos algunas funcionalidades y los datos:"
      ]
    },
    {
      "cell_type": "code",
      "execution_count": null,
      "metadata": {
        "id": "PcmG2IVMKYJz"
      },
      "outputs": [],
      "source": [
        "import pandas as pd\n",
        "import datetime\n",
        "import requests\n",
        "import matplotlib.pyplot as plt\n",
        "import seaborn as sns\n",
        "import numpy as np\n",
        "sns.set_theme(style=\"darkgrid\")\n",
        "sns.set_context(\"notebook\", font_scale=1.25)\n",
        "\n",
        "\n",
        "import requests\n",
        "import pandas as pd\n",
        "from collections import namedtuple"
      ]
    },
    {
      "cell_type": "markdown",
      "metadata": {
        "id": "FzearrMG92Vu"
      },
      "source": [
        "#### * Filtramos la información de interes a partir del conjunto de datos disponible en [Git](https://raw.githubusercontent.com/Rondamon/2022_Mentoria_LluviasExtremas/master/dataset/metadatos_estaciones.csv). A su vez consideramos un grupo de estaciones:"
      ]
    },
    {
      "cell_type": "code",
      "execution_count": null,
      "metadata": {
        "id": "5WuCVVr30JTc"
      },
      "outputs": [],
      "source": [
        "ruta_git='https://raw.githubusercontent.com/Rondamon/2022_Mentoria_LluviasExtremas/master/dataset/'\n",
        "\n",
        "# Metadatos:\n",
        "id_Datos=pd.read_csv(ruta_git + \"metadatos_estaciones.csv\", )\n",
        "stations_dataset=id_Datos.copy()\n",
        "\n",
        "# Convertimos el formato string de fecha a formato date-time pandas\n",
        "id_Datos['fecha_inicio'] = pd.to_datetime(id_Datos.fecha_inicio)\n",
        "id_Datos['Date_Month'] = pd.to_datetime(id_Datos.fecha_inicio.dt.strftime('%Y - %m'))\n",
        "\n",
        "#Estaciones de interés:\n",
        "zonas_int = ['Pilar Obs.','Rio Cuarto Aero','Marcos Juarez Aero','La Florida','Pueblo Andino']\n",
        "\n",
        "# filtramos estas estaciones:\n",
        "filtered_df = stations_dataset.loc[stations_dataset.nombre.isin(zonas_int)]\n"
      ]
    },
    {
      "cell_type": "markdown",
      "source": [
        "###   1. Extraer los datos para las coordenadas de las estaciones antes indicadas. \n",
        "###   2. ¿Cuántos años de datos hay?\n",
        "Rta//:\n",
        "\n",
        "### * Nota: la página presenta restricciones en cuanto a sus consultas (1000 por día, es por esta razon que se dejan indicadas las consultas de estacion puntual e iterando sobre el data frame: `filtered_df`)...\n",
        "- Estaciones de manera individual:\n",
        "  * Iniciando consulta desde: Thu Jul 01 2021 05:15:48 GMT+0000 - Unix: 1625116548.\n",
        "  * Hasta:  Wed Jun 22 2022 21:21:00 GMT+0000 - Unix: 1655932860.\n",
        "  * [Variables](https://www.home-assistant.io/integrations/darksky/#precip_probability) seleccionadas / Unidades SI.\n",
        "      - time: horario en tiempo Unix.\n",
        "      - summary: descripción. Formato: String.\n",
        "      - precipAccumulation: precipitación en milímetros por día [mm] \n",
        "      - precipIntensity: precipitación en milímetros por hora [mm]\n",
        "      - precipIntensityMax: precipitación máxima por hora en milímetros [mm]\n",
        "      - precipProbability: probabilidad de precipitación.\n",
        "      - precipType: tipo de precipitación que ocurre en el momento dado\n",
        "      - humidity: humedad atmosférica.\n",
        "      - pressure: presión barométrica.\n",
        "      - windSpeed: velocidad del viento en kilometros por hora [km/h]\n",
        "      - uvIndex: índice UV.\n",
        "      - temperatureMin: temperatura mínima en Celsius [°C]\n",
        "      - temperatureMax:temperatura máxima en Celsius [°C]\n",
        "      - omm_esta: nombre de la estación\n",
        "      - codigo: codificación OMM.\n",
        "\n",
        " "
      ],
      "metadata": {
        "id": "G_GvvYJdjclG"
      }
    },
    {
      "cell_type": "code",
      "source": [
        "import requests\n",
        "import pandas as pd\n",
        "from collections import namedtuple\n",
        "\n",
        "\n",
        "# Listado de variables:\n",
        "var = 'time,summary,precipAccumulation,precipIntensity,precipIntensityMaxTime,\\\n",
        "precipProbability,precipType,humidity,pressure,windSpeed,uvIndex,temperatureMin,temperatureMax,omm_esta,codigo'\n",
        "\n",
        "# Transformo en listado\n",
        "features = var.split(',')\n",
        "# print(features) #Control de variables\n",
        "\n",
        "DailySummary = namedtuple(\"DailySummary\", features)\n",
        "DailySummary\n",
        "\n",
        "df1 = pd.DataFrame()\n",
        "key = '9349598e9f11f5eddceb6791daa6d787'\n",
        "baseUrl=\"https://api.darksky.net/forecast\"\n",
        "\n",
        "df2 = pd.DataFrame()\n",
        "lista_consulta=[]\n",
        "\n",
        "# Caracteristicas extraidas de metadato: \n",
        "lon_dec=-64.276973\n",
        "lat_dec=-33.0955\n",
        "omm_esta = \"Rio Cuarto Aero\"\n",
        "codigo = 87453\n",
        "\n",
        "print(f'\\nUrl para la estación: {omm_esta} - código: {codigo}')\n",
        " \n",
        "for unix in range(1625116548, 1655932860, 86400):\n",
        "  consulta = f'{baseUrl}/{key}/{lat_dec},{lon_dec},{unix}?exclude=flags,hourly&units=ca'\n",
        "\n",
        "  # print(consulta)\n",
        "  try:\n",
        "    r = requests.get(consulta)\n",
        "    data = r.json()\n",
        "    df = pd.DataFrame(list(data[\"daily\"][\"data\"]))\n",
        "    df['omm_esta'] = omm_esta\n",
        "    df['codigo'] = codigo\n",
        "    df2 = pd.concat([df2, df])\n",
        "    lista_consulta.append(data)\n",
        "  \n",
        "  except:\n",
        "    # En caso que la consulta falle...\n",
        "    print(f'La estación: {omm_esta} - No posee datos para la fecha en formato unix: {unix}')\n",
        "    pass\n",
        "  # break\n"
      ],
      "metadata": {
        "id": "TttlfnnJI_hG"
      },
      "execution_count": null,
      "outputs": []
    },
    {
      "cell_type": "markdown",
      "source": [
        "#### * Primer resultado de la consulta - JSON:"
      ],
      "metadata": {
        "id": "RS5a5lFecjx4"
      }
    },
    {
      "cell_type": "code",
      "source": [
        "print(f'Resultado de las consultas \\n {lista_consulta[0]}')\n"
      ],
      "metadata": {
        "colab": {
          "base_uri": "https://localhost:8080/"
        },
        "id": "pd3lfAf_bbQ_",
        "outputId": "cee4b524-584c-4749-dbb9-28e45287e147"
      },
      "execution_count": null,
      "outputs": [
        {
          "output_type": "stream",
          "name": "stdout",
          "text": [
            "Resultado de las consultas \n",
            " {'latitude': -33.0955, 'longitude': -64.276973, 'timezone': 'America/Argentina/Cordoba', 'currently': {'time': 1625116548, 'summary': 'Mostly Cloudy', 'icon': 'partly-cloudy-night', 'precipIntensity': 0, 'precipProbability': 0, 'temperature': 6.58, 'apparentTemperature': 2.71, 'dewPoint': -1.38, 'humidity': 0.57, 'pressure': 1017.8, 'windSpeed': 23.43, 'windGust': 55.1, 'windBearing': 11, 'cloudCover': 0.72, 'uvIndex': 0, 'visibility': 16.093, 'ozone': 279}, 'daily': {'data': [{'time': 1625108400, 'summary': 'Clear throughout the day.', 'icon': 'partly-cloudy-day', 'sunriseTime': 1625138520, 'sunsetTime': 1625174520, 'moonPhase': 0.75, 'precipIntensity': 0.001, 'precipIntensityMax': 0.0041, 'precipIntensityMaxTime': 1625169600, 'precipProbability': 0.03, 'precipType': 'rain', 'temperatureHigh': 18.67, 'temperatureHighTime': 1625167200, 'temperatureLow': 4.95, 'temperatureLowTime': 1625196540, 'apparentTemperatureHigh': 18.39, 'apparentTemperatureHighTime': 1625167200, 'apparentTemperatureLow': 2.28, 'apparentTemperatureLowTime': 1625220000, 'dewPoint': -2.99, 'humidity': 0.48, 'pressure': 1016.2, 'windSpeed': 15.69, 'windGust': 59.27, 'windGustTime': 1625110320, 'windBearing': 10, 'cloudCover': 0.35, 'uvIndex': 3, 'uvIndexTime': 1625156520, 'visibility': 16.093, 'ozone': 274.3, 'temperatureMin': 0.14, 'temperatureMinTime': 1625140020, 'temperatureMax': 18.67, 'temperatureMaxTime': 1625167200, 'apparentTemperatureMin': -3.99, 'apparentTemperatureMinTime': 1625140140, 'apparentTemperatureMax': 18.39, 'apparentTemperatureMaxTime': 1625167200}]}, 'offset': -3}\n"
          ]
        }
      ]
    },
    {
      "cell_type": "markdown",
      "source": [
        "#### * Las transformamos en DataFrame: `res` y vemos el primer registro del mismo."
      ],
      "metadata": {
        "id": "IbTjmNr1cvJx"
      }
    },
    {
      "cell_type": "code",
      "source": [
        "res = pd.DataFrame(df2, columns=features)\n",
        "res.reset_index(drop=True)\n",
        "res.head(1)\n"
      ],
      "metadata": {
        "colab": {
          "base_uri": "https://localhost:8080/",
          "height": 179
        },
        "id": "GuJ9bLfccbSQ",
        "outputId": "db452dc6-978c-497a-9573-06a7a0c5f02c"
      },
      "execution_count": null,
      "outputs": [
        {
          "output_type": "execute_result",
          "data": {
            "text/plain": [
              "         time                    summary  precipAccumulation  precipIntensity  \\\n",
              "0  1625108400  Clear throughout the day.                 NaN            0.001   \n",
              "\n",
              "   precipIntensityMax  precipIntensityMaxTime  precipProbability precipType  \\\n",
              "0              0.0041            1.625170e+09               0.03       rain   \n",
              "\n",
              "   humidity  pressure  windSpeed  uvIndex  temperatureMin  temperatureMax  \\\n",
              "0      0.48    1016.2      15.69        3            0.14           18.67   \n",
              "\n",
              "          omm_esta  codigo  \n",
              "0  Rio Cuarto Aero   87453  "
            ],
            "text/html": [
              "\n",
              "  <div id=\"df-7d0eb518-26eb-4f48-a824-92c63191999a\">\n",
              "    <div class=\"colab-df-container\">\n",
              "      <div>\n",
              "<style scoped>\n",
              "    .dataframe tbody tr th:only-of-type {\n",
              "        vertical-align: middle;\n",
              "    }\n",
              "\n",
              "    .dataframe tbody tr th {\n",
              "        vertical-align: top;\n",
              "    }\n",
              "\n",
              "    .dataframe thead th {\n",
              "        text-align: right;\n",
              "    }\n",
              "</style>\n",
              "<table border=\"1\" class=\"dataframe\">\n",
              "  <thead>\n",
              "    <tr style=\"text-align: right;\">\n",
              "      <th></th>\n",
              "      <th>time</th>\n",
              "      <th>summary</th>\n",
              "      <th>precipAccumulation</th>\n",
              "      <th>precipIntensity</th>\n",
              "      <th>precipIntensityMax</th>\n",
              "      <th>precipIntensityMaxTime</th>\n",
              "      <th>precipProbability</th>\n",
              "      <th>precipType</th>\n",
              "      <th>humidity</th>\n",
              "      <th>pressure</th>\n",
              "      <th>windSpeed</th>\n",
              "      <th>uvIndex</th>\n",
              "      <th>temperatureMin</th>\n",
              "      <th>temperatureMax</th>\n",
              "      <th>omm_esta</th>\n",
              "      <th>codigo</th>\n",
              "    </tr>\n",
              "  </thead>\n",
              "  <tbody>\n",
              "    <tr>\n",
              "      <th>0</th>\n",
              "      <td>1625108400</td>\n",
              "      <td>Clear throughout the day.</td>\n",
              "      <td>NaN</td>\n",
              "      <td>0.001</td>\n",
              "      <td>0.0041</td>\n",
              "      <td>1.625170e+09</td>\n",
              "      <td>0.03</td>\n",
              "      <td>rain</td>\n",
              "      <td>0.48</td>\n",
              "      <td>1016.2</td>\n",
              "      <td>15.69</td>\n",
              "      <td>3</td>\n",
              "      <td>0.14</td>\n",
              "      <td>18.67</td>\n",
              "      <td>Rio Cuarto Aero</td>\n",
              "      <td>87453</td>\n",
              "    </tr>\n",
              "  </tbody>\n",
              "</table>\n",
              "</div>\n",
              "      <button class=\"colab-df-convert\" onclick=\"convertToInteractive('df-7d0eb518-26eb-4f48-a824-92c63191999a')\"\n",
              "              title=\"Convert this dataframe to an interactive table.\"\n",
              "              style=\"display:none;\">\n",
              "        \n",
              "  <svg xmlns=\"http://www.w3.org/2000/svg\" height=\"24px\"viewBox=\"0 0 24 24\"\n",
              "       width=\"24px\">\n",
              "    <path d=\"M0 0h24v24H0V0z\" fill=\"none\"/>\n",
              "    <path d=\"M18.56 5.44l.94 2.06.94-2.06 2.06-.94-2.06-.94-.94-2.06-.94 2.06-2.06.94zm-11 1L8.5 8.5l.94-2.06 2.06-.94-2.06-.94L8.5 2.5l-.94 2.06-2.06.94zm10 10l.94 2.06.94-2.06 2.06-.94-2.06-.94-.94-2.06-.94 2.06-2.06.94z\"/><path d=\"M17.41 7.96l-1.37-1.37c-.4-.4-.92-.59-1.43-.59-.52 0-1.04.2-1.43.59L10.3 9.45l-7.72 7.72c-.78.78-.78 2.05 0 2.83L4 21.41c.39.39.9.59 1.41.59.51 0 1.02-.2 1.41-.59l7.78-7.78 2.81-2.81c.8-.78.8-2.07 0-2.86zM5.41 20L4 18.59l7.72-7.72 1.47 1.35L5.41 20z\"/>\n",
              "  </svg>\n",
              "      </button>\n",
              "      \n",
              "  <style>\n",
              "    .colab-df-container {\n",
              "      display:flex;\n",
              "      flex-wrap:wrap;\n",
              "      gap: 12px;\n",
              "    }\n",
              "\n",
              "    .colab-df-convert {\n",
              "      background-color: #E8F0FE;\n",
              "      border: none;\n",
              "      border-radius: 50%;\n",
              "      cursor: pointer;\n",
              "      display: none;\n",
              "      fill: #1967D2;\n",
              "      height: 32px;\n",
              "      padding: 0 0 0 0;\n",
              "      width: 32px;\n",
              "    }\n",
              "\n",
              "    .colab-df-convert:hover {\n",
              "      background-color: #E2EBFA;\n",
              "      box-shadow: 0px 1px 2px rgba(60, 64, 67, 0.3), 0px 1px 3px 1px rgba(60, 64, 67, 0.15);\n",
              "      fill: #174EA6;\n",
              "    }\n",
              "\n",
              "    [theme=dark] .colab-df-convert {\n",
              "      background-color: #3B4455;\n",
              "      fill: #D2E3FC;\n",
              "    }\n",
              "\n",
              "    [theme=dark] .colab-df-convert:hover {\n",
              "      background-color: #434B5C;\n",
              "      box-shadow: 0px 1px 3px 1px rgba(0, 0, 0, 0.15);\n",
              "      filter: drop-shadow(0px 1px 2px rgba(0, 0, 0, 0.3));\n",
              "      fill: #FFFFFF;\n",
              "    }\n",
              "  </style>\n",
              "\n",
              "      <script>\n",
              "        const buttonEl =\n",
              "          document.querySelector('#df-7d0eb518-26eb-4f48-a824-92c63191999a button.colab-df-convert');\n",
              "        buttonEl.style.display =\n",
              "          google.colab.kernel.accessAllowed ? 'block' : 'none';\n",
              "\n",
              "        async function convertToInteractive(key) {\n",
              "          const element = document.querySelector('#df-7d0eb518-26eb-4f48-a824-92c63191999a');\n",
              "          const dataTable =\n",
              "            await google.colab.kernel.invokeFunction('convertToInteractive',\n",
              "                                                     [key], {});\n",
              "          if (!dataTable) return;\n",
              "\n",
              "          const docLinkHtml = 'Like what you see? Visit the ' +\n",
              "            '<a target=\"_blank\" href=https://colab.research.google.com/notebooks/data_table.ipynb>data table notebook</a>'\n",
              "            + ' to learn more about interactive tables.';\n",
              "          element.innerHTML = '';\n",
              "          dataTable['output_type'] = 'display_data';\n",
              "          await google.colab.output.renderOutput(dataTable, element);\n",
              "          const docLink = document.createElement('div');\n",
              "          docLink.innerHTML = docLinkHtml;\n",
              "          element.appendChild(docLink);\n",
              "        }\n",
              "      </script>\n",
              "    </div>\n",
              "  </div>\n",
              "  "
            ]
          },
          "metadata": {},
          "execution_count": 46
        }
      ]
    },
    {
      "cell_type": "markdown",
      "source": [
        "  ### 3. ¿Existen valores faltantes? Cuantificarlos.\n",
        "  - Las variables que presentan datos faltantes son:\n"
      ],
      "metadata": {
        "id": "KUyA-FAEsX1j"
      }
    },
    {
      "cell_type": "code",
      "source": [
        "print(res.info())\n",
        "\n",
        "# al parecer en la descarga no se presentaban datos faltantes:\n",
        "res['precipIntensity'].isna().sum()"
      ],
      "metadata": {
        "colab": {
          "base_uri": "https://localhost:8080/"
        },
        "id": "qaepazBBm__Z",
        "outputId": "09f7e0d1-9546-4ab3-c219-7c81bd1eb38a"
      },
      "execution_count": null,
      "outputs": [
        {
          "output_type": "stream",
          "name": "stdout",
          "text": [
            "<class 'pandas.core.frame.DataFrame'>\n",
            "Int64Index: 357 entries, 0 to 0\n",
            "Data columns (total 16 columns):\n",
            " #   Column                  Non-Null Count  Dtype  \n",
            "---  ------                  --------------  -----  \n",
            " 0   time                    357 non-null    int64  \n",
            " 1   summary                 357 non-null    object \n",
            " 2   precipAccumulation      0 non-null      float64\n",
            " 3   precipIntensity         357 non-null    float64\n",
            " 4   precipIntensityMax      357 non-null    float64\n",
            " 5   precipIntensityMaxTime  213 non-null    float64\n",
            " 6   precipProbability       357 non-null    float64\n",
            " 7   precipType              194 non-null    object \n",
            " 8   humidity                357 non-null    float64\n",
            " 9   pressure                357 non-null    float64\n",
            " 10  windSpeed               357 non-null    float64\n",
            " 11  uvIndex                 357 non-null    int64  \n",
            " 12  temperatureMin          357 non-null    float64\n",
            " 13  temperatureMax          357 non-null    float64\n",
            " 14  omm_esta                357 non-null    object \n",
            " 15  codigo                  357 non-null    int64  \n",
            "dtypes: float64(10), int64(3), object(3)\n",
            "memory usage: 55.5+ KB\n",
            "None\n"
          ]
        },
        {
          "output_type": "execute_result",
          "data": {
            "text/plain": [
              "0"
            ]
          },
          "metadata": {},
          "execution_count": 47
        }
      ]
    },
    {
      "cell_type": "markdown",
      "source": [
        "#### * Calculamos la precipitación acumulada diaria y transformamos el tiempo Unix escalas convecionales: \n",
        "- precipAccumulation = precipIntensity * 24 hr obtenida de [Foro](https://stackoverflow.com/questions/55866558/should-darksky-time-machine-historical-data-show-precipaccumulation-when-preci)"
      ],
      "metadata": {
        "id": "rYT3-ftrpw0_"
      }
    },
    {
      "cell_type": "code",
      "source": [
        "from datetime import datetime\n",
        "\n",
        "# transformando de tiempo Unix a unidades convencionales:\n",
        "res['Date'] = pd.to_datetime(res[\"time\"], unit = 's').dt.strftime(\"%Y-%m-%d\")\n",
        "\n",
        "# Calculamos la precipitación acumulada:\n",
        "res['precipAccumulation']= res['precipIntensity']*24 # 24 hrs\n",
        "res['temperatura'] = (res['temperatureMax'] + res['temperatureMin']) * 0.5 "
      ],
      "metadata": {
        "id": "4l4vyEYZfUy-"
      },
      "execution_count": 54,
      "outputs": []
    },
    {
      "cell_type": "code",
      "source": [
        "res.info() \n",
        "\n"
      ],
      "metadata": {
        "colab": {
          "base_uri": "https://localhost:8080/"
        },
        "id": "-zfeQEfid_A2",
        "outputId": "700134bf-8f1c-4013-b95e-0f2baa900c03"
      },
      "execution_count": 55,
      "outputs": [
        {
          "output_type": "stream",
          "name": "stdout",
          "text": [
            "<class 'pandas.core.frame.DataFrame'>\n",
            "Int64Index: 357 entries, 0 to 0\n",
            "Data columns (total 18 columns):\n",
            " #   Column                  Non-Null Count  Dtype  \n",
            "---  ------                  --------------  -----  \n",
            " 0   time                    357 non-null    int64  \n",
            " 1   summary                 357 non-null    object \n",
            " 2   precipAccumulation      357 non-null    float64\n",
            " 3   precipIntensity         357 non-null    float64\n",
            " 4   precipIntensityMax      357 non-null    float64\n",
            " 5   precipIntensityMaxTime  213 non-null    float64\n",
            " 6   precipProbability       357 non-null    float64\n",
            " 7   precipType              194 non-null    object \n",
            " 8   humidity                357 non-null    float64\n",
            " 9   pressure                357 non-null    float64\n",
            " 10  windSpeed               357 non-null    float64\n",
            " 11  uvIndex                 357 non-null    int64  \n",
            " 12  temperatureMin          357 non-null    float64\n",
            " 13  temperatureMax          357 non-null    float64\n",
            " 14  omm_esta                357 non-null    object \n",
            " 15  codigo                  357 non-null    int64  \n",
            " 16  Date                    357 non-null    object \n",
            " 17  temperatura             357 non-null    float64\n",
            "dtypes: float64(11), int64(3), object(4)\n",
            "memory usage: 61.1+ KB\n"
          ]
        }
      ]
    },
    {
      "cell_type": "markdown",
      "source": [
        "3. Generar un nuevo dataset a partir de los datos (time, summary, precipAccumulation, temperature, humidity, pressure, windSpeed, uvIndex, temperatureMin, temperatureMax."
      ],
      "metadata": {
        "id": "435Oih5fzCIJ"
      }
    },
    {
      "cell_type": "code",
      "source": [
        "df_riocuarto = res.loc[:,['Date','summary','temperatura', 'humidity', 'pressure', \\\n",
        "                          'windSpeed', 'uvIndex', 'temperatureMin', 'temperatureMax']].copy()"
      ],
      "metadata": {
        "id": "xdOMiRDEySEf"
      },
      "execution_count": 57,
      "outputs": []
    },
    {
      "cell_type": "code",
      "source": [
        "import missingno as msno\n",
        "msno.matrix(df_riocuarto,figsize=(20, 6), fontsize=12, color=[0,0,0.2])"
      ],
      "metadata": {
        "id": "f8j3OFqcvuHg",
        "outputId": "a7cf1840-49b9-4263-85ba-58633bd91342",
        "colab": {
          "base_uri": "https://localhost:8080/",
          "height": 473
        }
      },
      "execution_count": 58,
      "outputs": [
        {
          "output_type": "execute_result",
          "data": {
            "text/plain": [
              "<matplotlib.axes._subplots.AxesSubplot at 0x7fba31e68d50>"
            ]
          },
          "metadata": {},
          "execution_count": 58
        },
        {
          "output_type": "display_data",
          "data": {
            "text/plain": [
              "<Figure size 1440x432 with 2 Axes>"
            ],
            "image/png": "[encoded data removed]"
          },
          "metadata": {
            "needs_background": "light"
          }
        }
      ]
    },
    {
      "cell_type": "markdown",
      "source": [
        "  * Almacenando los datos en formato CSV:"
      ],
      "metadata": {
        "id": "5wmutVe7Z0kJ"
      }
    },
    {
      "cell_type": "code",
      "source": [
        "df_riocuarto.to_csv('87453_rio_cuarto.csv', sep=';',index=False)\n",
        "from google.colab import files\n",
        "files.download('87453_rio_cuarto.csv')"
      ],
      "metadata": {
        "id": "aFsvdah2ie5K",
        "colab": {
          "base_uri": "https://localhost:8080/",
          "height": 17
        },
        "outputId": "a8098127-49c1-4649-87b1-987c15a0fe4d"
      },
      "execution_count": 59,
      "outputs": [
        {
          "output_type": "display_data",
          "data": {
            "text/plain": [
              "<IPython.core.display.Javascript object>"
            ],
            "application/javascript": [
              "\n",
              "    async function download(id, filename, size) {\n",
              "      if (!google.colab.kernel.accessAllowed) {\n",
              "        return;\n",
              "      }\n",
              "      const div = document.createElement('div');\n",
              "      const label = document.createElement('label');\n",
              "      label.textContent = `Downloading \"${filename}\": `;\n",
              "      div.appendChild(label);\n",
              "      const progress = document.createElement('progress');\n",
              "      progress.max = size;\n",
              "      div.appendChild(progress);\n",
              "      document.body.appendChild(div);\n",
              "\n",
              "      const buffers = [];\n",
              "      let downloaded = 0;\n",
              "\n",
              "      const channel = await google.colab.kernel.comms.open(id);\n",
              "      // Send a message to notify the kernel that we're ready.\n",
              "      channel.send({})\n",
              "\n",
              "      for await (const message of channel.messages) {\n",
              "        // Send a message to notify the kernel that we're ready.\n",
              "        channel.send({})\n",
              "        if (message.buffers) {\n",
              "          for (const buffer of message.buffers) {\n",
              "            buffers.push(buffer);\n",
              "            downloaded += buffer.byteLength;\n",
              "            progress.value = downloaded;\n",
              "          }\n",
              "        }\n",
              "      }\n",
              "      const blob = new Blob(buffers, {type: 'application/binary'});\n",
              "      const a = document.createElement('a');\n",
              "      a.href = window.URL.createObjectURL(blob);\n",
              "      a.download = filename;\n",
              "      div.appendChild(a);\n",
              "      a.click();\n",
              "      div.remove();\n",
              "    }\n",
              "  "
            ]
          },
          "metadata": {}
        },
        {
          "output_type": "display_data",
          "data": {
            "text/plain": [
              "<IPython.core.display.Javascript object>"
            ],
            "application/javascript": [
              "download(\"download_40cc7dc6-f7c1-43f1-af97-3ccc4d6d2b5a\", \"87453_rio_cuarto.csv\", 29098)"
            ]
          },
          "metadata": {}
        }
      ]
    },
    {
      "cell_type": "markdown",
      "source": [
        "* Almacenando los datos en formato .TXT:"
      ],
      "metadata": {
        "id": "o-rUsUmuaHM0"
      }
    },
    {
      "cell_type": "code",
      "source": [
        "listitems = lista_consulta.copy()\n",
        "with open('consulta_87453_r4.txt', 'w') as temp_file:\n",
        "    for item in listitems:\n",
        "        temp_file.write(\"%s\\n\" % item)\n",
        "file = open('consulta_87453_r4.txt', 'r')\n",
        "#print(file.read()])\n",
        "print(listitems[0])"
      ],
      "metadata": {
        "id": "mjIslkEZAsNh",
        "colab": {
          "base_uri": "https://localhost:8080/"
        },
        "outputId": "6ef2a195-6eca-4b86-b552-d96feb6339f8"
      },
      "execution_count": 60,
      "outputs": [
        {
          "output_type": "stream",
          "name": "stdout",
          "text": [
            "{'latitude': -33.0955, 'longitude': -64.276973, 'timezone': 'America/Argentina/Cordoba', 'currently': {'time': 1625116548, 'summary': 'Mostly Cloudy', 'icon': 'partly-cloudy-night', 'precipIntensity': 0, 'precipProbability': 0, 'temperature': 6.58, 'apparentTemperature': 2.71, 'dewPoint': -1.38, 'humidity': 0.57, 'pressure': 1017.8, 'windSpeed': 23.43, 'windGust': 55.1, 'windBearing': 11, 'cloudCover': 0.72, 'uvIndex': 0, 'visibility': 16.093, 'ozone': 279}, 'daily': {'data': [{'time': 1625108400, 'summary': 'Clear throughout the day.', 'icon': 'partly-cloudy-day', 'sunriseTime': 1625138520, 'sunsetTime': 1625174520, 'moonPhase': 0.75, 'precipIntensity': 0.001, 'precipIntensityMax': 0.0041, 'precipIntensityMaxTime': 1625169600, 'precipProbability': 0.03, 'precipType': 'rain', 'temperatureHigh': 18.67, 'temperatureHighTime': 1625167200, 'temperatureLow': 4.95, 'temperatureLowTime': 1625196540, 'apparentTemperatureHigh': 18.39, 'apparentTemperatureHighTime': 1625167200, 'apparentTemperatureLow': 2.28, 'apparentTemperatureLowTime': 1625220000, 'dewPoint': -2.99, 'humidity': 0.48, 'pressure': 1016.2, 'windSpeed': 15.69, 'windGust': 59.27, 'windGustTime': 1625110320, 'windBearing': 10, 'cloudCover': 0.35, 'uvIndex': 3, 'uvIndexTime': 1625156520, 'visibility': 16.093, 'ozone': 274.3, 'temperatureMin': 0.14, 'temperatureMinTime': 1625140020, 'temperatureMax': 18.67, 'temperatureMaxTime': 1625167200, 'apparentTemperatureMin': -3.99, 'apparentTemperatureMinTime': 1625140140, 'apparentTemperatureMax': 18.39, 'apparentTemperatureMaxTime': 1625167200}]}, 'offset': -3}\n"
          ]
        }
      ]
    },
    {
      "cell_type": "markdown",
      "source": [
        "### * Se realizo una prueba iterando a todas las estaciones [Script - todas las estaciones](https://github.com/argennof/M_Predi_Lluvias_Extremas_10/blob/main/todas_estaciones_consulta.py). "
      ],
      "metadata": {
        "id": "Qjlggt7UrFhf"
      }
    },
    {
      "cell_type": "code",
      "source": [
        "from google.colab import files\n",
        "files.download('consulta_87453_r4.txt')"
      ],
      "metadata": {
        "colab": {
          "base_uri": "https://localhost:8080/",
          "height": 17
        },
        "id": "HnwlwpNuZrUa",
        "outputId": "dc540b4a-9c45-40ea-fd27-051c5968b484"
      },
      "execution_count": 53,
      "outputs": [
        {
          "output_type": "display_data",
          "data": {
            "text/plain": [
              "<IPython.core.display.Javascript object>"
            ],
            "application/javascript": [
              "\n",
              "    async function download(id, filename, size) {\n",
              "      if (!google.colab.kernel.accessAllowed) {\n",
              "        return;\n",
              "      }\n",
              "      const div = document.createElement('div');\n",
              "      const label = document.createElement('label');\n",
              "      label.textContent = `Downloading \"${filename}\": `;\n",
              "      div.appendChild(label);\n",
              "      const progress = document.createElement('progress');\n",
              "      progress.max = size;\n",
              "      div.appendChild(progress);\n",
              "      document.body.appendChild(div);\n",
              "\n",
              "      const buffers = [];\n",
              "      let downloaded = 0;\n",
              "\n",
              "      const channel = await google.colab.kernel.comms.open(id);\n",
              "      // Send a message to notify the kernel that we're ready.\n",
              "      channel.send({})\n",
              "\n",
              "      for await (const message of channel.messages) {\n",
              "        // Send a message to notify the kernel that we're ready.\n",
              "        channel.send({})\n",
              "        if (message.buffers) {\n",
              "          for (const buffer of message.buffers) {\n",
              "            buffers.push(buffer);\n",
              "            downloaded += buffer.byteLength;\n",
              "            progress.value = downloaded;\n",
              "          }\n",
              "        }\n",
              "      }\n",
              "      const blob = new Blob(buffers, {type: 'application/binary'});\n",
              "      const a = document.createElement('a');\n",
              "      a.href = window.URL.createObjectURL(blob);\n",
              "      a.download = filename;\n",
              "      div.appendChild(a);\n",
              "      a.click();\n",
              "      div.remove();\n",
              "    }\n",
              "  "
            ]
          },
          "metadata": {}
        },
        {
          "output_type": "display_data",
          "data": {
            "text/plain": [
              "<IPython.core.display.Javascript object>"
            ],
            "application/javascript": [
              "download(\"download_ea77e174-77ca-4e97-a262-60e62d216c31\", \"consulta_87453_r4.txt\", 552866)"
            ]
          },
          "metadata": {}
        }
      ]
    },
    {
      "cell_type": "markdown",
      "source": [
        "#### 4. Hacer las conversiones de unidades necesarias a estos datos para poder compararlos con el dataset \"datos_diarios_cordoba.csv\".\n",
        "\n"
      ],
      "metadata": {
        "id": "U2JmWcDUwwGP"
      }
    },
    {
      "cell_type": "code",
      "source": [
        ""
      ],
      "metadata": {
        "id": "DrvyJc7uwvjv"
      },
      "execution_count": null,
      "outputs": []
    },
    {
      "cell_type": "markdown",
      "metadata": {
        "id": "B0UUikBQL7Wk"
      },
      "source": [
        "## 2. Análisis y curación de datos de un Excel y un TXT"
      ]
    },
    {
      "cell_type": "markdown",
      "source": [
        "Leer los datos de \"TerraClimate.csv\" y determinar para cada variable los valores promedios anuales (correspondiente a cada año hidrológico).\n",
        "Hacer las conversiones de unidades necesarias para poder compararlos con cada estación.\n",
        "Determinar para las estaciones de la cuenca del Carcarañá, los valores promedios anuales (año hidrológico) y comparar los estadísticos de este dataset con los de \"datos_diarios_cordoba.csv\".\n",
        "Utilizar el dataset de TerraClimate para rellenar los datos faltantes en \"datos_diarios_cordoba.csv\" y guardar como un dataset nuevo. Hacer esto para todas las variables salvo para lluvia.\n",
        "Agregar las demás variables del dataset de TerraClimate al creado en el punto 4."
      ],
      "metadata": {
        "id": "l4p5T4uiwqST"
      }
    },
    {
      "cell_type": "code",
      "execution_count": null,
      "metadata": {
        "id": "SOm4PuOpSPt1",
        "colab": {
          "base_uri": "https://localhost:8080/",
          "height": 633
        },
        "outputId": "4e1f667f-fb59-4d87-f2fc-b05e5a09162a"
      },
      "outputs": [
        {
          "output_type": "execute_result",
          "data": {
            "text/plain": [
              "          Date  Lluvia_mm  ETreal_mm  HumedadSuelo_mm  RadSolar_Wpm2  \\\n",
              "0     1-Jan-58      165.0     1570.0             32.0          281.3   \n",
              "1     1-Feb-58       75.0      713.0             30.0          246.3   \n",
              "2     1-Mar-58      119.0     1123.0             33.0          213.5   \n",
              "3     1-Apr-58       33.0      313.0             31.0          151.6   \n",
              "4     1-May-58       13.0      119.0             28.0          109.8   \n",
              "...        ...        ...        ...              ...            ...   \n",
              "2971  1-Aug-19        2.0       19.0             38.0          173.9   \n",
              "2972  1-Sep-19        9.0       85.0             36.0          228.0   \n",
              "2973  1-Oct-19       22.0      209.0             34.0          222.7   \n",
              "2974  1-Nov-19       66.0      626.0             33.0          271.1   \n",
              "2975  1-Dec-19       49.0      467.0             31.0          324.7   \n",
              "\n",
              "      Temp_Min  Temp_Max  PresionVapor_hPa  VelViento_mps  IndicePalmer_porc  \\\n",
              "0         15.4      29.8             19.59           3.27               0.78   \n",
              "1         15.8      29.5             20.88           3.08              -0.45   \n",
              "2         13.0      26.1             17.72           3.31               0.23   \n",
              "3         10.7      23.3             15.13           2.65              -0.46   \n",
              "4          6.1      19.8             10.86           2.91              -0.76   \n",
              "...        ...       ...               ...            ...                ...   \n",
              "2971       1.5      16.2              4.24           5.15              -2.08   \n",
              "2972       4.2      19.1              4.79           5.50              -2.74   \n",
              "2973       7.1      20.8              7.46           5.97              -3.75   \n",
              "2974      11.5      25.8             12.12           5.77              -3.96   \n",
              "2975      13.3      27.3             10.65           4.52              -5.01   \n",
              "\n",
              "      id  omm_id      nombre  \n",
              "0      5   87349  Pilar Obs.  \n",
              "1      5   87349  Pilar Obs.  \n",
              "2      5   87349  Pilar Obs.  \n",
              "3      5   87349  Pilar Obs.  \n",
              "4      5   87349  Pilar Obs.  \n",
              "...   ..     ...         ...  \n",
              "2971  13       1  La Florida  \n",
              "2972  13       1  La Florida  \n",
              "2973  13       1  La Florida  \n",
              "2974  13       1  La Florida  \n",
              "2975  13       1  La Florida  \n",
              "\n",
              "[2976 rows x 13 columns]"
            ],
            "text/html": [
              "\n",
              "  <div id=\"df-49e2d0fe-2d03-4728-a189-102ac6b6289a\">\n",
              "    <div class=\"colab-df-container\">\n",
              "      <div>\n",
              "<style scoped>\n",
              "    .dataframe tbody tr th:only-of-type {\n",
              "        vertical-align: middle;\n",
              "    }\n",
              "\n",
              "    .dataframe tbody tr th {\n",
              "        vertical-align: top;\n",
              "    }\n",
              "\n",
              "    .dataframe thead th {\n",
              "        text-align: right;\n",
              "    }\n",
              "</style>\n",
              "<table border=\"1\" class=\"dataframe\">\n",
              "  <thead>\n",
              "    <tr style=\"text-align: right;\">\n",
              "      <th></th>\n",
              "      <th>Date</th>\n",
              "      <th>Lluvia_mm</th>\n",
              "      <th>ETreal_mm</th>\n",
              "      <th>HumedadSuelo_mm</th>\n",
              "      <th>RadSolar_Wpm2</th>\n",
              "      <th>Temp_Min</th>\n",
              "      <th>Temp_Max</th>\n",
              "      <th>PresionVapor_hPa</th>\n",
              "      <th>VelViento_mps</th>\n",
              "      <th>IndicePalmer_porc</th>\n",
              "      <th>id</th>\n",
              "      <th>omm_id</th>\n",
              "      <th>nombre</th>\n",
              "    </tr>\n",
              "  </thead>\n",
              "  <tbody>\n",
              "    <tr>\n",
              "      <th>0</th>\n",
              "      <td>1-Jan-58</td>\n",
              "      <td>165.0</td>\n",
              "      <td>1570.0</td>\n",
              "      <td>32.0</td>\n",
              "      <td>281.3</td>\n",
              "      <td>15.4</td>\n",
              "      <td>29.8</td>\n",
              "      <td>19.59</td>\n",
              "      <td>3.27</td>\n",
              "      <td>0.78</td>\n",
              "      <td>5</td>\n",
              "      <td>87349</td>\n",
              "      <td>Pilar Obs.</td>\n",
              "    </tr>\n",
              "    <tr>\n",
              "      <th>1</th>\n",
              "      <td>1-Feb-58</td>\n",
              "      <td>75.0</td>\n",
              "      <td>713.0</td>\n",
              "      <td>30.0</td>\n",
              "      <td>246.3</td>\n",
              "      <td>15.8</td>\n",
              "      <td>29.5</td>\n",
              "      <td>20.88</td>\n",
              "      <td>3.08</td>\n",
              "      <td>-0.45</td>\n",
              "      <td>5</td>\n",
              "      <td>87349</td>\n",
              "      <td>Pilar Obs.</td>\n",
              "    </tr>\n",
              "    <tr>\n",
              "      <th>2</th>\n",
              "      <td>1-Mar-58</td>\n",
              "      <td>119.0</td>\n",
              "      <td>1123.0</td>\n",
              "      <td>33.0</td>\n",
              "      <td>213.5</td>\n",
              "      <td>13.0</td>\n",
              "      <td>26.1</td>\n",
              "      <td>17.72</td>\n",
              "      <td>3.31</td>\n",
              "      <td>0.23</td>\n",
              "      <td>5</td>\n",
              "      <td>87349</td>\n",
              "      <td>Pilar Obs.</td>\n",
              "    </tr>\n",
              "    <tr>\n",
              "      <th>3</th>\n",
              "      <td>1-Apr-58</td>\n",
              "      <td>33.0</td>\n",
              "      <td>313.0</td>\n",
              "      <td>31.0</td>\n",
              "      <td>151.6</td>\n",
              "      <td>10.7</td>\n",
              "      <td>23.3</td>\n",
              "      <td>15.13</td>\n",
              "      <td>2.65</td>\n",
              "      <td>-0.46</td>\n",
              "      <td>5</td>\n",
              "      <td>87349</td>\n",
              "      <td>Pilar Obs.</td>\n",
              "    </tr>\n",
              "    <tr>\n",
              "      <th>4</th>\n",
              "      <td>1-May-58</td>\n",
              "      <td>13.0</td>\n",
              "      <td>119.0</td>\n",
              "      <td>28.0</td>\n",
              "      <td>109.8</td>\n",
              "      <td>6.1</td>\n",
              "      <td>19.8</td>\n",
              "      <td>10.86</td>\n",
              "      <td>2.91</td>\n",
              "      <td>-0.76</td>\n",
              "      <td>5</td>\n",
              "      <td>87349</td>\n",
              "      <td>Pilar Obs.</td>\n",
              "    </tr>\n",
              "    <tr>\n",
              "      <th>...</th>\n",
              "      <td>...</td>\n",
              "      <td>...</td>\n",
              "      <td>...</td>\n",
              "      <td>...</td>\n",
              "      <td>...</td>\n",
              "      <td>...</td>\n",
              "      <td>...</td>\n",
              "      <td>...</td>\n",
              "      <td>...</td>\n",
              "      <td>...</td>\n",
              "      <td>...</td>\n",
              "      <td>...</td>\n",
              "      <td>...</td>\n",
              "    </tr>\n",
              "    <tr>\n",
              "      <th>2971</th>\n",
              "      <td>1-Aug-19</td>\n",
              "      <td>2.0</td>\n",
              "      <td>19.0</td>\n",
              "      <td>38.0</td>\n",
              "      <td>173.9</td>\n",
              "      <td>1.5</td>\n",
              "      <td>16.2</td>\n",
              "      <td>4.24</td>\n",
              "      <td>5.15</td>\n",
              "      <td>-2.08</td>\n",
              "      <td>13</td>\n",
              "      <td>1</td>\n",
              "      <td>La Florida</td>\n",
              "    </tr>\n",
              "    <tr>\n",
              "      <th>2972</th>\n",
              "      <td>1-Sep-19</td>\n",
              "      <td>9.0</td>\n",
              "      <td>85.0</td>\n",
              "      <td>36.0</td>\n",
              "      <td>228.0</td>\n",
              "      <td>4.2</td>\n",
              "      <td>19.1</td>\n",
              "      <td>4.79</td>\n",
              "      <td>5.50</td>\n",
              "      <td>-2.74</td>\n",
              "      <td>13</td>\n",
              "      <td>1</td>\n",
              "      <td>La Florida</td>\n",
              "    </tr>\n",
              "    <tr>\n",
              "      <th>2973</th>\n",
              "      <td>1-Oct-19</td>\n",
              "      <td>22.0</td>\n",
              "      <td>209.0</td>\n",
              "      <td>34.0</td>\n",
              "      <td>222.7</td>\n",
              "      <td>7.1</td>\n",
              "      <td>20.8</td>\n",
              "      <td>7.46</td>\n",
              "      <td>5.97</td>\n",
              "      <td>-3.75</td>\n",
              "      <td>13</td>\n",
              "      <td>1</td>\n",
              "      <td>La Florida</td>\n",
              "    </tr>\n",
              "    <tr>\n",
              "      <th>2974</th>\n",
              "      <td>1-Nov-19</td>\n",
              "      <td>66.0</td>\n",
              "      <td>626.0</td>\n",
              "      <td>33.0</td>\n",
              "      <td>271.1</td>\n",
              "      <td>11.5</td>\n",
              "      <td>25.8</td>\n",
              "      <td>12.12</td>\n",
              "      <td>5.77</td>\n",
              "      <td>-3.96</td>\n",
              "      <td>13</td>\n",
              "      <td>1</td>\n",
              "      <td>La Florida</td>\n",
              "    </tr>\n",
              "    <tr>\n",
              "      <th>2975</th>\n",
              "      <td>1-Dec-19</td>\n",
              "      <td>49.0</td>\n",
              "      <td>467.0</td>\n",
              "      <td>31.0</td>\n",
              "      <td>324.7</td>\n",
              "      <td>13.3</td>\n",
              "      <td>27.3</td>\n",
              "      <td>10.65</td>\n",
              "      <td>4.52</td>\n",
              "      <td>-5.01</td>\n",
              "      <td>13</td>\n",
              "      <td>1</td>\n",
              "      <td>La Florida</td>\n",
              "    </tr>\n",
              "  </tbody>\n",
              "</table>\n",
              "<p>2976 rows × 13 columns</p>\n",
              "</div>\n",
              "      <button class=\"colab-df-convert\" onclick=\"convertToInteractive('df-49e2d0fe-2d03-4728-a189-102ac6b6289a')\"\n",
              "              title=\"Convert this dataframe to an interactive table.\"\n",
              "              style=\"display:none;\">\n",
              "        \n",
              "  <svg xmlns=\"http://www.w3.org/2000/svg\" height=\"24px\"viewBox=\"0 0 24 24\"\n",
              "       width=\"24px\">\n",
              "    <path d=\"M0 0h24v24H0V0z\" fill=\"none\"/>\n",
              "    <path d=\"M18.56 5.44l.94 2.06.94-2.06 2.06-.94-2.06-.94-.94-2.06-.94 2.06-2.06.94zm-11 1L8.5 8.5l.94-2.06 2.06-.94-2.06-.94L8.5 2.5l-.94 2.06-2.06.94zm10 10l.94 2.06.94-2.06 2.06-.94-2.06-.94-.94-2.06-.94 2.06-2.06.94z\"/><path d=\"M17.41 7.96l-1.37-1.37c-.4-.4-.92-.59-1.43-.59-.52 0-1.04.2-1.43.59L10.3 9.45l-7.72 7.72c-.78.78-.78 2.05 0 2.83L4 21.41c.39.39.9.59 1.41.59.51 0 1.02-.2 1.41-.59l7.78-7.78 2.81-2.81c.8-.78.8-2.07 0-2.86zM5.41 20L4 18.59l7.72-7.72 1.47 1.35L5.41 20z\"/>\n",
              "  </svg>\n",
              "      </button>\n",
              "      \n",
              "  <style>\n",
              "    .colab-df-container {\n",
              "      display:flex;\n",
              "      flex-wrap:wrap;\n",
              "      gap: 12px;\n",
              "    }\n",
              "\n",
              "    .colab-df-convert {\n",
              "      background-color: #E8F0FE;\n",
              "      border: none;\n",
              "      border-radius: 50%;\n",
              "      cursor: pointer;\n",
              "      display: none;\n",
              "      fill: #1967D2;\n",
              "      height: 32px;\n",
              "      padding: 0 0 0 0;\n",
              "      width: 32px;\n",
              "    }\n",
              "\n",
              "    .colab-df-convert:hover {\n",
              "      background-color: #E2EBFA;\n",
              "      box-shadow: 0px 1px 2px rgba(60, 64, 67, 0.3), 0px 1px 3px 1px rgba(60, 64, 67, 0.15);\n",
              "      fill: #174EA6;\n",
              "    }\n",
              "\n",
              "    [theme=dark] .colab-df-convert {\n",
              "      background-color: #3B4455;\n",
              "      fill: #D2E3FC;\n",
              "    }\n",
              "\n",
              "    [theme=dark] .colab-df-convert:hover {\n",
              "      background-color: #434B5C;\n",
              "      box-shadow: 0px 1px 3px 1px rgba(0, 0, 0, 0.15);\n",
              "      filter: drop-shadow(0px 1px 2px rgba(0, 0, 0, 0.3));\n",
              "      fill: #FFFFFF;\n",
              "    }\n",
              "  </style>\n",
              "\n",
              "      <script>\n",
              "        const buttonEl =\n",
              "          document.querySelector('#df-49e2d0fe-2d03-4728-a189-102ac6b6289a button.colab-df-convert');\n",
              "        buttonEl.style.display =\n",
              "          google.colab.kernel.accessAllowed ? 'block' : 'none';\n",
              "\n",
              "        async function convertToInteractive(key) {\n",
              "          const element = document.querySelector('#df-49e2d0fe-2d03-4728-a189-102ac6b6289a');\n",
              "          const dataTable =\n",
              "            await google.colab.kernel.invokeFunction('convertToInteractive',\n",
              "                                                     [key], {});\n",
              "          if (!dataTable) return;\n",
              "\n",
              "          const docLinkHtml = 'Like what you see? Visit the ' +\n",
              "            '<a target=\"_blank\" href=https://colab.research.google.com/notebooks/data_table.ipynb>data table notebook</a>'\n",
              "            + ' to learn more about interactive tables.';\n",
              "          element.innerHTML = '';\n",
              "          dataTable['output_type'] = 'display_data';\n",
              "          await google.colab.output.renderOutput(dataTable, element);\n",
              "          const docLink = document.createElement('div');\n",
              "          docLink.innerHTML = docLinkHtml;\n",
              "          element.appendChild(docLink);\n",
              "        }\n",
              "      </script>\n",
              "    </div>\n",
              "  </div>\n",
              "  "
            ]
          },
          "metadata": {},
          "execution_count": 8
        }
      ],
      "source": [
        "datos_tc = pd.read_csv(\"https://raw.githubusercontent.com/Rondamon/2022_Mentoria_LluviasExtremas/main/dataset/TerraClimate.csv\")\n",
        "datos_tc"
      ]
    },
    {
      "cell_type": "code",
      "execution_count": null,
      "metadata": {
        "colab": {
          "base_uri": "https://localhost:8080/",
          "height": 653
        },
        "id": "-JFncj2OY3b7",
        "outputId": "26be5c6b-092a-43a3-e447-cdd67436bdd3"
      },
      "outputs": [
        {
          "output_type": "execute_result",
          "data": {
            "text/plain": [
              "           Date  Lluvia_mm  ETreal_mm  HumedadSuelo_mm  RadSolar_Wpm2  \\\n",
              "0    1958-01-01      165.0     1570.0             32.0          281.3   \n",
              "1    1958-02-01       75.0      713.0             30.0          246.3   \n",
              "2    1958-03-01      119.0     1123.0             33.0          213.5   \n",
              "3    1958-04-01       33.0      313.0             31.0          151.6   \n",
              "4    1958-05-01       13.0      119.0             28.0          109.8   \n",
              "...         ...        ...        ...              ...            ...   \n",
              "2971 2019-08-01        2.0       19.0             38.0          173.9   \n",
              "2972 2019-09-01        9.0       85.0             36.0          228.0   \n",
              "2973 2019-10-01       22.0      209.0             34.0          222.7   \n",
              "2974 2019-11-01       66.0      626.0             33.0          271.1   \n",
              "2975 2019-12-01       49.0      467.0             31.0          324.7   \n",
              "\n",
              "      Temp_Min  Temp_Max  PresionVapor_hPa  VelViento_mps  IndicePalmer_porc  \\\n",
              "0         15.4      29.8             19.59           3.27               0.78   \n",
              "1         15.8      29.5             20.88           3.08              -0.45   \n",
              "2         13.0      26.1             17.72           3.31               0.23   \n",
              "3         10.7      23.3             15.13           2.65              -0.46   \n",
              "4          6.1      19.8             10.86           2.91              -0.76   \n",
              "...        ...       ...               ...            ...                ...   \n",
              "2971       1.5      16.2              4.24           5.15              -2.08   \n",
              "2972       4.2      19.1              4.79           5.50              -2.74   \n",
              "2973       7.1      20.8              7.46           5.97              -3.75   \n",
              "2974      11.5      25.8             12.12           5.77              -3.96   \n",
              "2975      13.3      27.3             10.65           4.52              -5.01   \n",
              "\n",
              "      id  omm_id      nombre  hydro_year  \n",
              "0      5   87349  Pilar Obs.        1957  \n",
              "1      5   87349  Pilar Obs.        1957  \n",
              "2      5   87349  Pilar Obs.        1957  \n",
              "3      5   87349  Pilar Obs.        1957  \n",
              "4      5   87349  Pilar Obs.        1957  \n",
              "...   ..     ...         ...         ...  \n",
              "2971  13       1  La Florida        2019  \n",
              "2972  13       1  La Florida        2019  \n",
              "2973  13       1  La Florida        2019  \n",
              "2974  13       1  La Florida        2019  \n",
              "2975  13       1  La Florida        2019  \n",
              "\n",
              "[2976 rows x 14 columns]"
            ],
            "text/html": [
              "\n",
              "  <div id=\"df-d274c1ae-5e53-4144-989b-d6309e86a6d2\">\n",
              "    <div class=\"colab-df-container\">\n",
              "      <div>\n",
              "<style scoped>\n",
              "    .dataframe tbody tr th:only-of-type {\n",
              "        vertical-align: middle;\n",
              "    }\n",
              "\n",
              "    .dataframe tbody tr th {\n",
              "        vertical-align: top;\n",
              "    }\n",
              "\n",
              "    .dataframe thead th {\n",
              "        text-align: right;\n",
              "    }\n",
              "</style>\n",
              "<table border=\"1\" class=\"dataframe\">\n",
              "  <thead>\n",
              "    <tr style=\"text-align: right;\">\n",
              "      <th></th>\n",
              "      <th>Date</th>\n",
              "      <th>Lluvia_mm</th>\n",
              "      <th>ETreal_mm</th>\n",
              "      <th>HumedadSuelo_mm</th>\n",
              "      <th>RadSolar_Wpm2</th>\n",
              "      <th>Temp_Min</th>\n",
              "      <th>Temp_Max</th>\n",
              "      <th>PresionVapor_hPa</th>\n",
              "      <th>VelViento_mps</th>\n",
              "      <th>IndicePalmer_porc</th>\n",
              "      <th>id</th>\n",
              "      <th>omm_id</th>\n",
              "      <th>nombre</th>\n",
              "      <th>hydro_year</th>\n",
              "    </tr>\n",
              "  </thead>\n",
              "  <tbody>\n",
              "    <tr>\n",
              "      <th>0</th>\n",
              "      <td>1958-01-01</td>\n",
              "      <td>165.0</td>\n",
              "      <td>1570.0</td>\n",
              "      <td>32.0</td>\n",
              "      <td>281.3</td>\n",
              "      <td>15.4</td>\n",
              "      <td>29.8</td>\n",
              "      <td>19.59</td>\n",
              "      <td>3.27</td>\n",
              "      <td>0.78</td>\n",
              "      <td>5</td>\n",
              "      <td>87349</td>\n",
              "      <td>Pilar Obs.</td>\n",
              "      <td>1957</td>\n",
              "    </tr>\n",
              "    <tr>\n",
              "      <th>1</th>\n",
              "      <td>1958-02-01</td>\n",
              "      <td>75.0</td>\n",
              "      <td>713.0</td>\n",
              "      <td>30.0</td>\n",
              "      <td>246.3</td>\n",
              "      <td>15.8</td>\n",
              "      <td>29.5</td>\n",
              "      <td>20.88</td>\n",
              "      <td>3.08</td>\n",
              "      <td>-0.45</td>\n",
              "      <td>5</td>\n",
              "      <td>87349</td>\n",
              "      <td>Pilar Obs.</td>\n",
              "      <td>1957</td>\n",
              "    </tr>\n",
              "    <tr>\n",
              "      <th>2</th>\n",
              "      <td>1958-03-01</td>\n",
              "      <td>119.0</td>\n",
              "      <td>1123.0</td>\n",
              "      <td>33.0</td>\n",
              "      <td>213.5</td>\n",
              "      <td>13.0</td>\n",
              "      <td>26.1</td>\n",
              "      <td>17.72</td>\n",
              "      <td>3.31</td>\n",
              "      <td>0.23</td>\n",
              "      <td>5</td>\n",
              "      <td>87349</td>\n",
              "      <td>Pilar Obs.</td>\n",
              "      <td>1957</td>\n",
              "    </tr>\n",
              "    <tr>\n",
              "      <th>3</th>\n",
              "      <td>1958-04-01</td>\n",
              "      <td>33.0</td>\n",
              "      <td>313.0</td>\n",
              "      <td>31.0</td>\n",
              "      <td>151.6</td>\n",
              "      <td>10.7</td>\n",
              "      <td>23.3</td>\n",
              "      <td>15.13</td>\n",
              "      <td>2.65</td>\n",
              "      <td>-0.46</td>\n",
              "      <td>5</td>\n",
              "      <td>87349</td>\n",
              "      <td>Pilar Obs.</td>\n",
              "      <td>1957</td>\n",
              "    </tr>\n",
              "    <tr>\n",
              "      <th>4</th>\n",
              "      <td>1958-05-01</td>\n",
              "      <td>13.0</td>\n",
              "      <td>119.0</td>\n",
              "      <td>28.0</td>\n",
              "      <td>109.8</td>\n",
              "      <td>6.1</td>\n",
              "      <td>19.8</td>\n",
              "      <td>10.86</td>\n",
              "      <td>2.91</td>\n",
              "      <td>-0.76</td>\n",
              "      <td>5</td>\n",
              "      <td>87349</td>\n",
              "      <td>Pilar Obs.</td>\n",
              "      <td>1957</td>\n",
              "    </tr>\n",
              "    <tr>\n",
              "      <th>...</th>\n",
              "      <td>...</td>\n",
              "      <td>...</td>\n",
              "      <td>...</td>\n",
              "      <td>...</td>\n",
              "      <td>...</td>\n",
              "      <td>...</td>\n",
              "      <td>...</td>\n",
              "      <td>...</td>\n",
              "      <td>...</td>\n",
              "      <td>...</td>\n",
              "      <td>...</td>\n",
              "      <td>...</td>\n",
              "      <td>...</td>\n",
              "      <td>...</td>\n",
              "    </tr>\n",
              "    <tr>\n",
              "      <th>2971</th>\n",
              "      <td>2019-08-01</td>\n",
              "      <td>2.0</td>\n",
              "      <td>19.0</td>\n",
              "      <td>38.0</td>\n",
              "      <td>173.9</td>\n",
              "      <td>1.5</td>\n",
              "      <td>16.2</td>\n",
              "      <td>4.24</td>\n",
              "      <td>5.15</td>\n",
              "      <td>-2.08</td>\n",
              "      <td>13</td>\n",
              "      <td>1</td>\n",
              "      <td>La Florida</td>\n",
              "      <td>2019</td>\n",
              "    </tr>\n",
              "    <tr>\n",
              "      <th>2972</th>\n",
              "      <td>2019-09-01</td>\n",
              "      <td>9.0</td>\n",
              "      <td>85.0</td>\n",
              "      <td>36.0</td>\n",
              "      <td>228.0</td>\n",
              "      <td>4.2</td>\n",
              "      <td>19.1</td>\n",
              "      <td>4.79</td>\n",
              "      <td>5.50</td>\n",
              "      <td>-2.74</td>\n",
              "      <td>13</td>\n",
              "      <td>1</td>\n",
              "      <td>La Florida</td>\n",
              "      <td>2019</td>\n",
              "    </tr>\n",
              "    <tr>\n",
              "      <th>2973</th>\n",
              "      <td>2019-10-01</td>\n",
              "      <td>22.0</td>\n",
              "      <td>209.0</td>\n",
              "      <td>34.0</td>\n",
              "      <td>222.7</td>\n",
              "      <td>7.1</td>\n",
              "      <td>20.8</td>\n",
              "      <td>7.46</td>\n",
              "      <td>5.97</td>\n",
              "      <td>-3.75</td>\n",
              "      <td>13</td>\n",
              "      <td>1</td>\n",
              "      <td>La Florida</td>\n",
              "      <td>2019</td>\n",
              "    </tr>\n",
              "    <tr>\n",
              "      <th>2974</th>\n",
              "      <td>2019-11-01</td>\n",
              "      <td>66.0</td>\n",
              "      <td>626.0</td>\n",
              "      <td>33.0</td>\n",
              "      <td>271.1</td>\n",
              "      <td>11.5</td>\n",
              "      <td>25.8</td>\n",
              "      <td>12.12</td>\n",
              "      <td>5.77</td>\n",
              "      <td>-3.96</td>\n",
              "      <td>13</td>\n",
              "      <td>1</td>\n",
              "      <td>La Florida</td>\n",
              "      <td>2019</td>\n",
              "    </tr>\n",
              "    <tr>\n",
              "      <th>2975</th>\n",
              "      <td>2019-12-01</td>\n",
              "      <td>49.0</td>\n",
              "      <td>467.0</td>\n",
              "      <td>31.0</td>\n",
              "      <td>324.7</td>\n",
              "      <td>13.3</td>\n",
              "      <td>27.3</td>\n",
              "      <td>10.65</td>\n",
              "      <td>4.52</td>\n",
              "      <td>-5.01</td>\n",
              "      <td>13</td>\n",
              "      <td>1</td>\n",
              "      <td>La Florida</td>\n",
              "      <td>2019</td>\n",
              "    </tr>\n",
              "  </tbody>\n",
              "</table>\n",
              "<p>2976 rows × 14 columns</p>\n",
              "</div>\n",
              "      <button class=\"colab-df-convert\" onclick=\"convertToInteractive('df-d274c1ae-5e53-4144-989b-d6309e86a6d2')\"\n",
              "              title=\"Convert this dataframe to an interactive table.\"\n",
              "              style=\"display:none;\">\n",
              "        \n",
              "  <svg xmlns=\"http://www.w3.org/2000/svg\" height=\"24px\"viewBox=\"0 0 24 24\"\n",
              "       width=\"24px\">\n",
              "    <path d=\"M0 0h24v24H0V0z\" fill=\"none\"/>\n",
              "    <path d=\"M18.56 5.44l.94 2.06.94-2.06 2.06-.94-2.06-.94-.94-2.06-.94 2.06-2.06.94zm-11 1L8.5 8.5l.94-2.06 2.06-.94-2.06-.94L8.5 2.5l-.94 2.06-2.06.94zm10 10l.94 2.06.94-2.06 2.06-.94-2.06-.94-.94-2.06-.94 2.06-2.06.94z\"/><path d=\"M17.41 7.96l-1.37-1.37c-.4-.4-.92-.59-1.43-.59-.52 0-1.04.2-1.43.59L10.3 9.45l-7.72 7.72c-.78.78-.78 2.05 0 2.83L4 21.41c.39.39.9.59 1.41.59.51 0 1.02-.2 1.41-.59l7.78-7.78 2.81-2.81c.8-.78.8-2.07 0-2.86zM5.41 20L4 18.59l7.72-7.72 1.47 1.35L5.41 20z\"/>\n",
              "  </svg>\n",
              "      </button>\n",
              "      \n",
              "  <style>\n",
              "    .colab-df-container {\n",
              "      display:flex;\n",
              "      flex-wrap:wrap;\n",
              "      gap: 12px;\n",
              "    }\n",
              "\n",
              "    .colab-df-convert {\n",
              "      background-color: #E8F0FE;\n",
              "      border: none;\n",
              "      border-radius: 50%;\n",
              "      cursor: pointer;\n",
              "      display: none;\n",
              "      fill: #1967D2;\n",
              "      height: 32px;\n",
              "      padding: 0 0 0 0;\n",
              "      width: 32px;\n",
              "    }\n",
              "\n",
              "    .colab-df-convert:hover {\n",
              "      background-color: #E2EBFA;\n",
              "      box-shadow: 0px 1px 2px rgba(60, 64, 67, 0.3), 0px 1px 3px 1px rgba(60, 64, 67, 0.15);\n",
              "      fill: #174EA6;\n",
              "    }\n",
              "\n",
              "    [theme=dark] .colab-df-convert {\n",
              "      background-color: #3B4455;\n",
              "      fill: #D2E3FC;\n",
              "    }\n",
              "\n",
              "    [theme=dark] .colab-df-convert:hover {\n",
              "      background-color: #434B5C;\n",
              "      box-shadow: 0px 1px 3px 1px rgba(0, 0, 0, 0.15);\n",
              "      filter: drop-shadow(0px 1px 2px rgba(0, 0, 0, 0.3));\n",
              "      fill: #FFFFFF;\n",
              "    }\n",
              "  </style>\n",
              "\n",
              "      <script>\n",
              "        const buttonEl =\n",
              "          document.querySelector('#df-d274c1ae-5e53-4144-989b-d6309e86a6d2 button.colab-df-convert');\n",
              "        buttonEl.style.display =\n",
              "          google.colab.kernel.accessAllowed ? 'block' : 'none';\n",
              "\n",
              "        async function convertToInteractive(key) {\n",
              "          const element = document.querySelector('#df-d274c1ae-5e53-4144-989b-d6309e86a6d2');\n",
              "          const dataTable =\n",
              "            await google.colab.kernel.invokeFunction('convertToInteractive',\n",
              "                                                     [key], {});\n",
              "          if (!dataTable) return;\n",
              "\n",
              "          const docLinkHtml = 'Like what you see? Visit the ' +\n",
              "            '<a target=\"_blank\" href=https://colab.research.google.com/notebooks/data_table.ipynb>data table notebook</a>'\n",
              "            + ' to learn more about interactive tables.';\n",
              "          element.innerHTML = '';\n",
              "          dataTable['output_type'] = 'display_data';\n",
              "          await google.colab.output.renderOutput(dataTable, element);\n",
              "          const docLink = document.createElement('div');\n",
              "          docLink.innerHTML = docLinkHtml;\n",
              "          element.appendChild(docLink);\n",
              "        }\n",
              "      </script>\n",
              "    </div>\n",
              "  </div>\n",
              "  "
            ]
          },
          "metadata": {},
          "execution_count": 9
        }
      ],
      "source": [
        "datos_tc['Date'] = pd.to_datetime(datos_tc['Date'])\n",
        "datos_tc['Date'] = datos_tc['Date'].mask(datos_tc['Date'].dt.year > 2019, \n",
        "                                        datos_tc['Date'] - pd.offsets.DateOffset(years=100))\n",
        "datos_tc['hydro_year'] = datos_tc['Date'].apply(lambda Date: get_hydro_year(Date))\n",
        "datos_tc"
      ]
    },
    {
      "cell_type": "code",
      "source": [
        "not_var_cols = ['Date', 'id', 'omm_id', 'nombre']\n",
        "var_cols = [c for c in datos_tc.columns if c not in not_var_cols]\n",
        "datos_tc_var = datos_tc[var_cols]\n",
        "\n",
        "#df.groupby('StationID')['BiasTemp'].mean()\n",
        "for col in var_cols:\n",
        "  datos_tc_var.groupby('hydro_year')[col].mean()\n",
        "\n",
        "datos_tc_var\n"
      ],
      "metadata": {
        "colab": {
          "base_uri": "https://localhost:8080/",
          "height": 419
        },
        "id": "STMnaAPDxDQh",
        "outputId": "94ebe487-7e43-4572-c9ce-2d272f028489"
      },
      "execution_count": null,
      "outputs": [
        {
          "output_type": "execute_result",
          "data": {
            "text/plain": [
              "      Lluvia_mm  ETreal_mm  HumedadSuelo_mm  RadSolar_Wpm2  Temp_Min  \\\n",
              "0         165.0     1570.0             32.0          281.3      15.4   \n",
              "1          75.0      713.0             30.0          246.3      15.8   \n",
              "2         119.0     1123.0             33.0          213.5      13.0   \n",
              "3          33.0      313.0             31.0          151.6      10.7   \n",
              "4          13.0      119.0             28.0          109.8       6.1   \n",
              "...         ...        ...              ...            ...       ...   \n",
              "2971        2.0       19.0             38.0          173.9       1.5   \n",
              "2972        9.0       85.0             36.0          228.0       4.2   \n",
              "2973       22.0      209.0             34.0          222.7       7.1   \n",
              "2974       66.0      626.0             33.0          271.1      11.5   \n",
              "2975       49.0      467.0             31.0          324.7      13.3   \n",
              "\n",
              "      Temp_Max  PresionVapor_hPa  VelViento_mps  IndicePalmer_porc  hydro_year  \n",
              "0         29.8             19.59           3.27               0.78        1957  \n",
              "1         29.5             20.88           3.08              -0.45        1957  \n",
              "2         26.1             17.72           3.31               0.23        1957  \n",
              "3         23.3             15.13           2.65              -0.46        1957  \n",
              "4         19.8             10.86           2.91              -0.76        1957  \n",
              "...        ...               ...            ...                ...         ...  \n",
              "2971      16.2              4.24           5.15              -2.08        2019  \n",
              "2972      19.1              4.79           5.50              -2.74        2019  \n",
              "2973      20.8              7.46           5.97              -3.75        2019  \n",
              "2974      25.8             12.12           5.77              -3.96        2019  \n",
              "2975      27.3             10.65           4.52              -5.01        2019  \n",
              "\n",
              "[2976 rows x 10 columns]"
            ],
            "text/html": [
              "\n",
              "  <div id=\"df-7aa8bdef-e1d9-45d3-b8fb-c22646dd0400\">\n",
              "    <div class=\"colab-df-container\">\n",
              "      <div>\n",
              "<style scoped>\n",
              "    .dataframe tbody tr th:only-of-type {\n",
              "        vertical-align: middle;\n",
              "    }\n",
              "\n",
              "    .dataframe tbody tr th {\n",
              "        vertical-align: top;\n",
              "    }\n",
              "\n",
              "    .dataframe thead th {\n",
              "        text-align: right;\n",
              "    }\n",
              "</style>\n",
              "<table border=\"1\" class=\"dataframe\">\n",
              "  <thead>\n",
              "    <tr style=\"text-align: right;\">\n",
              "      <th></th>\n",
              "      <th>Lluvia_mm</th>\n",
              "      <th>ETreal_mm</th>\n",
              "      <th>HumedadSuelo_mm</th>\n",
              "      <th>RadSolar_Wpm2</th>\n",
              "      <th>Temp_Min</th>\n",
              "      <th>Temp_Max</th>\n",
              "      <th>PresionVapor_hPa</th>\n",
              "      <th>VelViento_mps</th>\n",
              "      <th>IndicePalmer_porc</th>\n",
              "      <th>hydro_year</th>\n",
              "    </tr>\n",
              "  </thead>\n",
              "  <tbody>\n",
              "    <tr>\n",
              "      <th>0</th>\n",
              "      <td>165.0</td>\n",
              "      <td>1570.0</td>\n",
              "      <td>32.0</td>\n",
              "      <td>281.3</td>\n",
              "      <td>15.4</td>\n",
              "      <td>29.8</td>\n",
              "      <td>19.59</td>\n",
              "      <td>3.27</td>\n",
              "      <td>0.78</td>\n",
              "      <td>1957</td>\n",
              "    </tr>\n",
              "    <tr>\n",
              "      <th>1</th>\n",
              "      <td>75.0</td>\n",
              "      <td>713.0</td>\n",
              "      <td>30.0</td>\n",
              "      <td>246.3</td>\n",
              "      <td>15.8</td>\n",
              "      <td>29.5</td>\n",
              "      <td>20.88</td>\n",
              "      <td>3.08</td>\n",
              "      <td>-0.45</td>\n",
              "      <td>1957</td>\n",
              "    </tr>\n",
              "    <tr>\n",
              "      <th>2</th>\n",
              "      <td>119.0</td>\n",
              "      <td>1123.0</td>\n",
              "      <td>33.0</td>\n",
              "      <td>213.5</td>\n",
              "      <td>13.0</td>\n",
              "      <td>26.1</td>\n",
              "      <td>17.72</td>\n",
              "      <td>3.31</td>\n",
              "      <td>0.23</td>\n",
              "      <td>1957</td>\n",
              "    </tr>\n",
              "    <tr>\n",
              "      <th>3</th>\n",
              "      <td>33.0</td>\n",
              "      <td>313.0</td>\n",
              "      <td>31.0</td>\n",
              "      <td>151.6</td>\n",
              "      <td>10.7</td>\n",
              "      <td>23.3</td>\n",
              "      <td>15.13</td>\n",
              "      <td>2.65</td>\n",
              "      <td>-0.46</td>\n",
              "      <td>1957</td>\n",
              "    </tr>\n",
              "    <tr>\n",
              "      <th>4</th>\n",
              "      <td>13.0</td>\n",
              "      <td>119.0</td>\n",
              "      <td>28.0</td>\n",
              "      <td>109.8</td>\n",
              "      <td>6.1</td>\n",
              "      <td>19.8</td>\n",
              "      <td>10.86</td>\n",
              "      <td>2.91</td>\n",
              "      <td>-0.76</td>\n",
              "      <td>1957</td>\n",
              "    </tr>\n",
              "    <tr>\n",
              "      <th>...</th>\n",
              "      <td>...</td>\n",
              "      <td>...</td>\n",
              "      <td>...</td>\n",
              "      <td>...</td>\n",
              "      <td>...</td>\n",
              "      <td>...</td>\n",
              "      <td>...</td>\n",
              "      <td>...</td>\n",
              "      <td>...</td>\n",
              "      <td>...</td>\n",
              "    </tr>\n",
              "    <tr>\n",
              "      <th>2971</th>\n",
              "      <td>2.0</td>\n",
              "      <td>19.0</td>\n",
              "      <td>38.0</td>\n",
              "      <td>173.9</td>\n",
              "      <td>1.5</td>\n",
              "      <td>16.2</td>\n",
              "      <td>4.24</td>\n",
              "      <td>5.15</td>\n",
              "      <td>-2.08</td>\n",
              "      <td>2019</td>\n",
              "    </tr>\n",
              "    <tr>\n",
              "      <th>2972</th>\n",
              "      <td>9.0</td>\n",
              "      <td>85.0</td>\n",
              "      <td>36.0</td>\n",
              "      <td>228.0</td>\n",
              "      <td>4.2</td>\n",
              "      <td>19.1</td>\n",
              "      <td>4.79</td>\n",
              "      <td>5.50</td>\n",
              "      <td>-2.74</td>\n",
              "      <td>2019</td>\n",
              "    </tr>\n",
              "    <tr>\n",
              "      <th>2973</th>\n",
              "      <td>22.0</td>\n",
              "      <td>209.0</td>\n",
              "      <td>34.0</td>\n",
              "      <td>222.7</td>\n",
              "      <td>7.1</td>\n",
              "      <td>20.8</td>\n",
              "      <td>7.46</td>\n",
              "      <td>5.97</td>\n",
              "      <td>-3.75</td>\n",
              "      <td>2019</td>\n",
              "    </tr>\n",
              "    <tr>\n",
              "      <th>2974</th>\n",
              "      <td>66.0</td>\n",
              "      <td>626.0</td>\n",
              "      <td>33.0</td>\n",
              "      <td>271.1</td>\n",
              "      <td>11.5</td>\n",
              "      <td>25.8</td>\n",
              "      <td>12.12</td>\n",
              "      <td>5.77</td>\n",
              "      <td>-3.96</td>\n",
              "      <td>2019</td>\n",
              "    </tr>\n",
              "    <tr>\n",
              "      <th>2975</th>\n",
              "      <td>49.0</td>\n",
              "      <td>467.0</td>\n",
              "      <td>31.0</td>\n",
              "      <td>324.7</td>\n",
              "      <td>13.3</td>\n",
              "      <td>27.3</td>\n",
              "      <td>10.65</td>\n",
              "      <td>4.52</td>\n",
              "      <td>-5.01</td>\n",
              "      <td>2019</td>\n",
              "    </tr>\n",
              "  </tbody>\n",
              "</table>\n",
              "<p>2976 rows × 10 columns</p>\n",
              "</div>\n",
              "      <button class=\"colab-df-convert\" onclick=\"convertToInteractive('df-7aa8bdef-e1d9-45d3-b8fb-c22646dd0400')\"\n",
              "              title=\"Convert this dataframe to an interactive table.\"\n",
              "              style=\"display:none;\">\n",
              "        \n",
              "  <svg xmlns=\"http://www.w3.org/2000/svg\" height=\"24px\"viewBox=\"0 0 24 24\"\n",
              "       width=\"24px\">\n",
              "    <path d=\"M0 0h24v24H0V0z\" fill=\"none\"/>\n",
              "    <path d=\"M18.56 5.44l.94 2.06.94-2.06 2.06-.94-2.06-.94-.94-2.06-.94 2.06-2.06.94zm-11 1L8.5 8.5l.94-2.06 2.06-.94-2.06-.94L8.5 2.5l-.94 2.06-2.06.94zm10 10l.94 2.06.94-2.06 2.06-.94-2.06-.94-.94-2.06-.94 2.06-2.06.94z\"/><path d=\"M17.41 7.96l-1.37-1.37c-.4-.4-.92-.59-1.43-.59-.52 0-1.04.2-1.43.59L10.3 9.45l-7.72 7.72c-.78.78-.78 2.05 0 2.83L4 21.41c.39.39.9.59 1.41.59.51 0 1.02-.2 1.41-.59l7.78-7.78 2.81-2.81c.8-.78.8-2.07 0-2.86zM5.41 20L4 18.59l7.72-7.72 1.47 1.35L5.41 20z\"/>\n",
              "  </svg>\n",
              "      </button>\n",
              "      \n",
              "  <style>\n",
              "    .colab-df-container {\n",
              "      display:flex;\n",
              "      flex-wrap:wrap;\n",
              "      gap: 12px;\n",
              "    }\n",
              "\n",
              "    .colab-df-convert {\n",
              "      background-color: #E8F0FE;\n",
              "      border: none;\n",
              "      border-radius: 50%;\n",
              "      cursor: pointer;\n",
              "      display: none;\n",
              "      fill: #1967D2;\n",
              "      height: 32px;\n",
              "      padding: 0 0 0 0;\n",
              "      width: 32px;\n",
              "    }\n",
              "\n",
              "    .colab-df-convert:hover {\n",
              "      background-color: #E2EBFA;\n",
              "      box-shadow: 0px 1px 2px rgba(60, 64, 67, 0.3), 0px 1px 3px 1px rgba(60, 64, 67, 0.15);\n",
              "      fill: #174EA6;\n",
              "    }\n",
              "\n",
              "    [theme=dark] .colab-df-convert {\n",
              "      background-color: #3B4455;\n",
              "      fill: #D2E3FC;\n",
              "    }\n",
              "\n",
              "    [theme=dark] .colab-df-convert:hover {\n",
              "      background-color: #434B5C;\n",
              "      box-shadow: 0px 1px 3px 1px rgba(0, 0, 0, 0.15);\n",
              "      filter: drop-shadow(0px 1px 2px rgba(0, 0, 0, 0.3));\n",
              "      fill: #FFFFFF;\n",
              "    }\n",
              "  </style>\n",
              "\n",
              "      <script>\n",
              "        const buttonEl =\n",
              "          document.querySelector('#df-7aa8bdef-e1d9-45d3-b8fb-c22646dd0400 button.colab-df-convert');\n",
              "        buttonEl.style.display =\n",
              "          google.colab.kernel.accessAllowed ? 'block' : 'none';\n",
              "\n",
              "        async function convertToInteractive(key) {\n",
              "          const element = document.querySelector('#df-7aa8bdef-e1d9-45d3-b8fb-c22646dd0400');\n",
              "          const dataTable =\n",
              "            await google.colab.kernel.invokeFunction('convertToInteractive',\n",
              "                                                     [key], {});\n",
              "          if (!dataTable) return;\n",
              "\n",
              "          const docLinkHtml = 'Like what you see? Visit the ' +\n",
              "            '<a target=\"_blank\" href=https://colab.research.google.com/notebooks/data_table.ipynb>data table notebook</a>'\n",
              "            + ' to learn more about interactive tables.';\n",
              "          element.innerHTML = '';\n",
              "          dataTable['output_type'] = 'display_data';\n",
              "          await google.colab.output.renderOutput(dataTable, element);\n",
              "          const docLink = document.createElement('div');\n",
              "          docLink.innerHTML = docLinkHtml;\n",
              "          element.appendChild(docLink);\n",
              "        }\n",
              "      </script>\n",
              "    </div>\n",
              "  </div>\n",
              "  "
            ]
          },
          "metadata": {},
          "execution_count": 10
        }
      ]
    },
    {
      "cell_type": "markdown",
      "metadata": {
        "id": "3_fSx-51UeSc"
      },
      "source": [
        "## 4. Análisis y curación de Índices Climáticos en Excel\n",
        "\n",
        "Referencias: https://psl.noaa.gov/data/climateindices/list/\n",
        "\n",
        "  1. Leer el archivo \"indices_clim.xlsx\" y evaluar la cantidad de valores faltantes.\n",
        "  2. Convertir los datos faltantes en NaN.\n",
        "  3. Hacer matrices de correlación entre los diferentes índices climáticos y las series de Precipitaciones Máximas Diarias Anuales (PMDA) en las diferentes estaciones. Hacer esto para cada año hidrológico.\n",
        "  4. Repetir lo mismo para la serie de caudales máximos diarios anuales (QMDA) en Pueblo Andino."
      ]
    },
    {
      "cell_type": "markdown",
      "metadata": {
        "id": "sE_EmCYUeqBU"
      },
      "source": [
        "### 4.a) Cargando el conjunto de datos"
      ]
    },
    {
      "cell_type": "code",
      "execution_count": null,
      "metadata": {
        "colab": {
          "base_uri": "https://localhost:8080/",
          "height": 390
        },
        "id": "6zuUb2-OUdP6",
        "outputId": "a6003b0e-6e95-44b0-e197-24ebd6c7a42e"
      },
      "outputs": [
        {
          "output_type": "execute_result",
          "data": {
            "text/plain": [
              "            SOI  PNA  NAO  Jones NAO       GBI  EPO  TNH  ONI  NTA  CAR  ...  \\\n",
              "date                                                                     ...   \n",
              "1948-01-01  NaN  NaN  NaN       1.53  5087.053  NaN  NaN  NaN  NaN  NaN  ...   \n",
              "1948-01-01  NaN  NaN  NaN       0.66  5062.317  NaN  NaN  NaN  NaN  NaN  ...   \n",
              "1948-01-01  NaN  NaN  NaN       3.48  5048.031  NaN  NaN  NaN  NaN  NaN  ...   \n",
              "\n",
              "            Solar Flux  MDR minus Tropics SST anomalies  \\\n",
              "date                                                      \n",
              "1948-01-01      1557.0                             0.32   \n",
              "1948-01-01      1343.0                             0.13   \n",
              "1948-01-01      1355.0                             0.14   \n",
              "\n",
              "            Central India Monsoon Precipitation  Sahel Monsoon Precipitation  \\\n",
              "date                                                                           \n",
              "1948-01-01                                318.0                         -5.0   \n",
              "1948-01-01                                 58.0                          7.0   \n",
              "1948-01-01                                 37.0                         -6.0   \n",
              "\n",
              "            Brazil Monsoon Precipitation  SW USA Monsoon Precipitation  \\\n",
              "date                                                                     \n",
              "1948-01-01                         -92.0                          0.38   \n",
              "1948-01-01                         -80.0                          1.60   \n",
              "1948-01-01                          99.0                          1.12   \n",
              "\n",
              "            Global Land-Ocean Temperature Index  ENSO Precipitation Index  \\\n",
              "date                                                                        \n",
              "1948-01-01                                  7.0                       NaN   \n",
              "1948-01-01                                -15.0                       NaN   \n",
              "1948-01-01                                -25.0                       NaN   \n",
              "\n",
              "            Global Integrated Angular Momentum GLAAM  MDR SST Anomalies  \n",
              "date                                                                     \n",
              "1948-01-01                                       NaN               0.19  \n",
              "1948-01-01                                       NaN               0.04  \n",
              "1948-01-01                                       NaN               0.23  \n",
              "\n",
              "[3 rows x 44 columns]"
            ],
            "text/html": [
              "\n",
              "  <div id=\"df-064559bf-cbe7-4dcc-8e19-cd65a0789fb8\">\n",
              "    <div class=\"colab-df-container\">\n",
              "      <div>\n",
              "<style scoped>\n",
              "    .dataframe tbody tr th:only-of-type {\n",
              "        vertical-align: middle;\n",
              "    }\n",
              "\n",
              "    .dataframe tbody tr th {\n",
              "        vertical-align: top;\n",
              "    }\n",
              "\n",
              "    .dataframe thead th {\n",
              "        text-align: right;\n",
              "    }\n",
              "</style>\n",
              "<table border=\"1\" class=\"dataframe\">\n",
              "  <thead>\n",
              "    <tr style=\"text-align: right;\">\n",
              "      <th></th>\n",
              "      <th>SOI</th>\n",
              "      <th>PNA</th>\n",
              "      <th>NAO</th>\n",
              "      <th>Jones NAO</th>\n",
              "      <th>GBI</th>\n",
              "      <th>EPO</th>\n",
              "      <th>TNH</th>\n",
              "      <th>ONI</th>\n",
              "      <th>NTA</th>\n",
              "      <th>CAR</th>\n",
              "      <th>...</th>\n",
              "      <th>Solar Flux</th>\n",
              "      <th>MDR minus Tropics SST anomalies</th>\n",
              "      <th>Central India Monsoon Precipitation</th>\n",
              "      <th>Sahel Monsoon Precipitation</th>\n",
              "      <th>Brazil Monsoon Precipitation</th>\n",
              "      <th>SW USA Monsoon Precipitation</th>\n",
              "      <th>Global Land-Ocean Temperature Index</th>\n",
              "      <th>ENSO Precipitation Index</th>\n",
              "      <th>Global Integrated Angular Momentum GLAAM</th>\n",
              "      <th>MDR SST Anomalies</th>\n",
              "    </tr>\n",
              "    <tr>\n",
              "      <th>date</th>\n",
              "      <th></th>\n",
              "      <th></th>\n",
              "      <th></th>\n",
              "      <th></th>\n",
              "      <th></th>\n",
              "      <th></th>\n",
              "      <th></th>\n",
              "      <th></th>\n",
              "      <th></th>\n",
              "      <th></th>\n",
              "      <th></th>\n",
              "      <th></th>\n",
              "      <th></th>\n",
              "      <th></th>\n",
              "      <th></th>\n",
              "      <th></th>\n",
              "      <th></th>\n",
              "      <th></th>\n",
              "      <th></th>\n",
              "      <th></th>\n",
              "      <th></th>\n",
              "    </tr>\n",
              "  </thead>\n",
              "  <tbody>\n",
              "    <tr>\n",
              "      <th>1948-01-01</th>\n",
              "      <td>NaN</td>\n",
              "      <td>NaN</td>\n",
              "      <td>NaN</td>\n",
              "      <td>1.53</td>\n",
              "      <td>5087.053</td>\n",
              "      <td>NaN</td>\n",
              "      <td>NaN</td>\n",
              "      <td>NaN</td>\n",
              "      <td>NaN</td>\n",
              "      <td>NaN</td>\n",
              "      <td>...</td>\n",
              "      <td>1557.0</td>\n",
              "      <td>0.32</td>\n",
              "      <td>318.0</td>\n",
              "      <td>-5.0</td>\n",
              "      <td>-92.0</td>\n",
              "      <td>0.38</td>\n",
              "      <td>7.0</td>\n",
              "      <td>NaN</td>\n",
              "      <td>NaN</td>\n",
              "      <td>0.19</td>\n",
              "    </tr>\n",
              "    <tr>\n",
              "      <th>1948-01-01</th>\n",
              "      <td>NaN</td>\n",
              "      <td>NaN</td>\n",
              "      <td>NaN</td>\n",
              "      <td>0.66</td>\n",
              "      <td>5062.317</td>\n",
              "      <td>NaN</td>\n",
              "      <td>NaN</td>\n",
              "      <td>NaN</td>\n",
              "      <td>NaN</td>\n",
              "      <td>NaN</td>\n",
              "      <td>...</td>\n",
              "      <td>1343.0</td>\n",
              "      <td>0.13</td>\n",
              "      <td>58.0</td>\n",
              "      <td>7.0</td>\n",
              "      <td>-80.0</td>\n",
              "      <td>1.60</td>\n",
              "      <td>-15.0</td>\n",
              "      <td>NaN</td>\n",
              "      <td>NaN</td>\n",
              "      <td>0.04</td>\n",
              "    </tr>\n",
              "    <tr>\n",
              "      <th>1948-01-01</th>\n",
              "      <td>NaN</td>\n",
              "      <td>NaN</td>\n",
              "      <td>NaN</td>\n",
              "      <td>3.48</td>\n",
              "      <td>5048.031</td>\n",
              "      <td>NaN</td>\n",
              "      <td>NaN</td>\n",
              "      <td>NaN</td>\n",
              "      <td>NaN</td>\n",
              "      <td>NaN</td>\n",
              "      <td>...</td>\n",
              "      <td>1355.0</td>\n",
              "      <td>0.14</td>\n",
              "      <td>37.0</td>\n",
              "      <td>-6.0</td>\n",
              "      <td>99.0</td>\n",
              "      <td>1.12</td>\n",
              "      <td>-25.0</td>\n",
              "      <td>NaN</td>\n",
              "      <td>NaN</td>\n",
              "      <td>0.23</td>\n",
              "    </tr>\n",
              "  </tbody>\n",
              "</table>\n",
              "<p>3 rows × 44 columns</p>\n",
              "</div>\n",
              "      <button class=\"colab-df-convert\" onclick=\"convertToInteractive('df-064559bf-cbe7-4dcc-8e19-cd65a0789fb8')\"\n",
              "              title=\"Convert this dataframe to an interactive table.\"\n",
              "              style=\"display:none;\">\n",
              "        \n",
              "  <svg xmlns=\"http://www.w3.org/2000/svg\" height=\"24px\"viewBox=\"0 0 24 24\"\n",
              "       width=\"24px\">\n",
              "    <path d=\"M0 0h24v24H0V0z\" fill=\"none\"/>\n",
              "    <path d=\"M18.56 5.44l.94 2.06.94-2.06 2.06-.94-2.06-.94-.94-2.06-.94 2.06-2.06.94zm-11 1L8.5 8.5l.94-2.06 2.06-.94-2.06-.94L8.5 2.5l-.94 2.06-2.06.94zm10 10l.94 2.06.94-2.06 2.06-.94-2.06-.94-.94-2.06-.94 2.06-2.06.94z\"/><path d=\"M17.41 7.96l-1.37-1.37c-.4-.4-.92-.59-1.43-.59-.52 0-1.04.2-1.43.59L10.3 9.45l-7.72 7.72c-.78.78-.78 2.05 0 2.83L4 21.41c.39.39.9.59 1.41.59.51 0 1.02-.2 1.41-.59l7.78-7.78 2.81-2.81c.8-.78.8-2.07 0-2.86zM5.41 20L4 18.59l7.72-7.72 1.47 1.35L5.41 20z\"/>\n",
              "  </svg>\n",
              "      </button>\n",
              "      \n",
              "  <style>\n",
              "    .colab-df-container {\n",
              "      display:flex;\n",
              "      flex-wrap:wrap;\n",
              "      gap: 12px;\n",
              "    }\n",
              "\n",
              "    .colab-df-convert {\n",
              "      background-color: #E8F0FE;\n",
              "      border: none;\n",
              "      border-radius: 50%;\n",
              "      cursor: pointer;\n",
              "      display: none;\n",
              "      fill: #1967D2;\n",
              "      height: 32px;\n",
              "      padding: 0 0 0 0;\n",
              "      width: 32px;\n",
              "    }\n",
              "\n",
              "    .colab-df-convert:hover {\n",
              "      background-color: #E2EBFA;\n",
              "      box-shadow: 0px 1px 2px rgba(60, 64, 67, 0.3), 0px 1px 3px 1px rgba(60, 64, 67, 0.15);\n",
              "      fill: #174EA6;\n",
              "    }\n",
              "\n",
              "    [theme=dark] .colab-df-convert {\n",
              "      background-color: #3B4455;\n",
              "      fill: #D2E3FC;\n",
              "    }\n",
              "\n",
              "    [theme=dark] .colab-df-convert:hover {\n",
              "      background-color: #434B5C;\n",
              "      box-shadow: 0px 1px 3px 1px rgba(0, 0, 0, 0.15);\n",
              "      filter: drop-shadow(0px 1px 2px rgba(0, 0, 0, 0.3));\n",
              "      fill: #FFFFFF;\n",
              "    }\n",
              "  </style>\n",
              "\n",
              "      <script>\n",
              "        const buttonEl =\n",
              "          document.querySelector('#df-064559bf-cbe7-4dcc-8e19-cd65a0789fb8 button.colab-df-convert');\n",
              "        buttonEl.style.display =\n",
              "          google.colab.kernel.accessAllowed ? 'block' : 'none';\n",
              "\n",
              "        async function convertToInteractive(key) {\n",
              "          const element = document.querySelector('#df-064559bf-cbe7-4dcc-8e19-cd65a0789fb8');\n",
              "          const dataTable =\n",
              "            await google.colab.kernel.invokeFunction('convertToInteractive',\n",
              "                                                     [key], {});\n",
              "          if (!dataTable) return;\n",
              "\n",
              "          const docLinkHtml = 'Like what you see? Visit the ' +\n",
              "            '<a target=\"_blank\" href=https://colab.research.google.com/notebooks/data_table.ipynb>data table notebook</a>'\n",
              "            + ' to learn more about interactive tables.';\n",
              "          element.innerHTML = '';\n",
              "          dataTable['output_type'] = 'display_data';\n",
              "          await google.colab.output.renderOutput(dataTable, element);\n",
              "          const docLink = document.createElement('div');\n",
              "          docLink.innerHTML = docLinkHtml;\n",
              "          element.appendChild(docLink);\n",
              "        }\n",
              "      </script>\n",
              "    </div>\n",
              "  </div>\n",
              "  "
            ]
          },
          "metadata": {},
          "execution_count": 123
        }
      ],
      "source": [
        "# https://pandas.pydata.org/pandas-docs/stable/user_guide/io.html\n",
        "\n",
        "url='https://github.com/Rondamon/2022_Mentoria_LluviasExtremas/blob/main/dataset/indices_clim.xlsx?raw=true'\n",
        "with pd.ExcelFile(url) as xls:\n",
        "  db_index=pd.read_excel(url,parse_dates = True, index_col='date')\n",
        "  \n",
        "# db_index.columns.to_list\n",
        "db_index.head(3)"
      ]
    },
    {
      "cell_type": "markdown",
      "source": [
        "### * Evaluando la cantidad de variables así como sus valores faltantes:"
      ],
      "metadata": {
        "id": "krnGlGRUxGBH"
      }
    },
    {
      "cell_type": "code",
      "source": [
        "db_index.info()"
      ],
      "metadata": {
        "colab": {
          "base_uri": "https://localhost:8080/"
        },
        "id": "bsdUV6RTwe9u",
        "outputId": "1e4b7bcd-baca-4301-8fa3-c6a4a508520a"
      },
      "execution_count": null,
      "outputs": [
        {
          "output_type": "stream",
          "name": "stdout",
          "text": [
            "<class 'pandas.core.frame.DataFrame'>\n",
            "DatetimeIndex: 876 entries, 1948-01-01 to 2020-01-01\n",
            "Data columns (total 44 columns):\n",
            " #   Column                                    Non-Null Count  Dtype  \n",
            "---  ------                                    --------------  -----  \n",
            " 0   SOI                                       833 non-null    float64\n",
            " 1   PNA                                       845 non-null    float64\n",
            " 2   NAO                                       845 non-null    float64\n",
            " 3   Jones NAO                                 643 non-null    float64\n",
            " 4   GBI                                       809 non-null    float64\n",
            " 5   EPO                                       775 non-null    float64\n",
            " 6   TNH                                       191 non-null    float64\n",
            " 7   ONI                                       844 non-null    float64\n",
            " 8   NTA                                       841 non-null    float64\n",
            " 9   CAR                                       841 non-null    float64\n",
            " 10  MEI v2                                    497 non-null    float64\n",
            " 11  BEST                                      869 non-null    float64\n",
            " 12  Nino 3                                    845 non-null    float64\n",
            " 13  Nino 1+2                                  845 non-null    float64\n",
            " 14  Nino 3+4                                  845 non-null    float64\n",
            " 15  Nino 4                                    845 non-null    float64\n",
            " 16  Pacific Warm Pool                         731 non-null    float64\n",
            " 17  Tropical Pacific SST EOF                  731 non-null    float64\n",
            " 18  TNA                                       869 non-null    float64\n",
            " 19  TSA                                       869 non-null    float64\n",
            " 20  Western Pacific Index                     845 non-null    float64\n",
            " 21  QBO                                       869 non-null    float64\n",
            " 22  PDO                                       849 non-null    float64\n",
            " 23  NOI                                       713 non-null    float64\n",
            " 24  PMM                                       867 non-null    float64\n",
            " 25  WHWP                                      869 non-null    float64\n",
            " 26  Nort Pacific Index NP                     867 non-null    float64\n",
            " 27  Arctic Oscilation AO                      845 non-null    float64\n",
            " 28  Arctic Oscilation Index AAO               492 non-null    float64\n",
            " 29  NH - Sea-Ice Extent                       497 non-null    float64\n",
            " 30  SH - Sea-Ice Extent                       497 non-null    float64\n",
            " 31  Trans-Nino Index TNI                      867 non-null    float64\n",
            " 32  Atlantic Tripole                          731 non-null    float64\n",
            " 33  AMO                                       869 non-null    float64\n",
            " 34  Solar Flux                                855 non-null    float64\n",
            " 35  MDR minus Tropics SST anomalies           748 non-null    float64\n",
            " 36  Central India Monsoon Precipitation       624 non-null    float64\n",
            " 37  Sahel Monsoon Precipitation               840 non-null    float64\n",
            " 38  Brazil Monsoon Precipitation              618 non-null    float64\n",
            " 39  SW USA Monsoon Precipitation              756 non-null    float64\n",
            " 40  Global Land-Ocean Temperature Index       859 non-null    float64\n",
            " 41  ENSO Precipitation Index                  455 non-null    float64\n",
            " 42  Global Integrated Angular Momentum GLAAM  674 non-null    float64\n",
            " 43  MDR SST Anomalies                         748 non-null    float64\n",
            "dtypes: float64(44)\n",
            "memory usage: 308.0 KB\n"
          ]
        }
      ]
    },
    {
      "cell_type": "markdown",
      "source": [
        "### * Como se puede notar en la anterior contamos con 876 registros para cada una de las 43 posibles variables. A demás se puede resaltar que 5 variables: BEST, TNA, TSA, QBO, WHWP, AMO cuentan con 869 registros y son las más completas de la Base de Datos (BBDD). A su vez se destaca que en general el conjunto es de tipo flotante. "
      ],
      "metadata": {
        "id": "ckTRU7nm052V"
      }
    },
    {
      "cell_type": "markdown",
      "source": [
        "### * Creamos una copia del dataframe `db_index` y lo denominamos `df`. Posteriormente, rellenamos cada uno de los valores faltantes con el argumento `np.nan`:"
      ],
      "metadata": {
        "id": "RYlfCHIe-JNp"
      }
    },
    {
      "cell_type": "code",
      "source": [
        "\n",
        "df = db_index.copy()\n",
        "df.fillna(np.nan, inplace=True)"
      ],
      "metadata": {
        "id": "WBGZxu-85XZA"
      },
      "execution_count": null,
      "outputs": []
    },
    {
      "cell_type": "markdown",
      "source": [
        "### * Contabilizamos la cantidad de valores faltantes por variable (ordenados de menor a mayor):"
      ],
      "metadata": {
        "id": "7bHIffsFxX-y"
      }
    },
    {
      "cell_type": "code",
      "source": [
        "# Valores Faltantes:\n",
        "missing_values_count = df.isna().sum()\n",
        "missing_values_count.sort_values()"
      ],
      "metadata": {
        "colab": {
          "base_uri": "https://localhost:8080/"
        },
        "id": "sSuRIPC7xAul",
        "outputId": "425bd93a-63f3-4df1-f1fc-ccd3b431182d"
      },
      "execution_count": null,
      "outputs": [
        {
          "output_type": "execute_result",
          "data": {
            "text/plain": [
              "QBO                                           7\n",
              "WHWP                                          7\n",
              "TSA                                           7\n",
              "TNA                                           7\n",
              "AMO                                           7\n",
              "BEST                                          7\n",
              "PMM                                           9\n",
              "Trans-Nino Index TNI                          9\n",
              "Nort Pacific Index NP                         9\n",
              "Global Land-Ocean Temperature Index          17\n",
              "Solar Flux                                   21\n",
              "PDO                                          27\n",
              "PNA                                          31\n",
              "Western Pacific Index                        31\n",
              "NAO                                          31\n",
              "Arctic Oscilation AO                         31\n",
              "Nino 3+4                                     31\n",
              "Nino 1+2                                     31\n",
              "Nino 3                                       31\n",
              "Nino 4                                       31\n",
              "ONI                                          32\n",
              "CAR                                          35\n",
              "NTA                                          35\n",
              "Sahel Monsoon Precipitation                  36\n",
              "SOI                                          43\n",
              "GBI                                          67\n",
              "EPO                                         101\n",
              "SW USA Monsoon Precipitation                120\n",
              "MDR minus Tropics SST anomalies             128\n",
              "MDR SST Anomalies                           128\n",
              "Atlantic Tripole                            145\n",
              "Pacific Warm Pool                           145\n",
              "Tropical Pacific SST EOF                    145\n",
              "NOI                                         163\n",
              "Global Integrated Angular Momentum GLAAM    202\n",
              "Jones NAO                                   233\n",
              "Central India Monsoon Precipitation         252\n",
              "Brazil Monsoon Precipitation                258\n",
              "SH - Sea-Ice Extent                         379\n",
              "MEI v2                                      379\n",
              "NH - Sea-Ice Extent                         379\n",
              "Arctic Oscilation Index AAO                 384\n",
              "ENSO Precipitation Index                    421\n",
              "TNH                                         685\n",
              "dtype: int64"
            ]
          },
          "metadata": {},
          "execution_count": 128
        }
      ]
    },
    {
      "cell_type": "markdown",
      "source": [
        "### * Calculamos el porcentaje de datos faltantes sobre el conjunto de datos:"
      ],
      "metadata": {
        "id": "qp9Lcppe2oZN"
      }
    },
    {
      "cell_type": "code",
      "source": [
        "# how many total missing values do we have?\n",
        "total_cells = np.product(df.shape)\n",
        "total_missing = missing_values_count.sum()\n",
        "\n",
        "# percent of data that is missing\n",
        "print(f'porcentaje de faltantes en la base de datos: {((total_missing/total_cells) * 100):2f}')"
      ],
      "metadata": {
        "colab": {
          "base_uri": "https://localhost:8080/"
        },
        "id": "upNa70SCyV7w",
        "outputId": "6de0116e-b533-4194-e1dc-02ebbf152ee8"
      },
      "execution_count": null,
      "outputs": [
        {
          "output_type": "stream",
          "name": "stdout",
          "text": [
            "porcentaje de faltantes en la base de datos: 13.690847\n"
          ]
        }
      ]
    },
    {
      "cell_type": "markdown",
      "source": [
        "### * Ahora lo caracterizamos visualmente:\n",
        "- Matriz de datos:"
      ],
      "metadata": {
        "id": "CvSVAGrT253g"
      }
    },
    {
      "cell_type": "code",
      "source": [
        "import missingno as msno\n",
        "msno.matrix(df,figsize=(20, 6), fontsize=12, color=[0,0,0.2])"
      ],
      "metadata": {
        "colab": {
          "base_uri": "https://localhost:8080/",
          "height": 571
        },
        "id": "zu6AAkxj3Y5c",
        "outputId": "9610b0ba-7fa9-46e2-ed11-7b4fccf70bf7"
      },
      "execution_count": null,
      "outputs": [
        {
          "output_type": "execute_result",
          "data": {
            "text/plain": [
              "<matplotlib.axes._subplots.AxesSubplot at 0x7f6d6dc6bf50>"
            ]
          },
          "metadata": {},
          "execution_count": 130
        },
        {
          "output_type": "display_data",
          "data": {
            "text/plain": [
              "<Figure size 1440x432 with 2 Axes>"
            ],
            "image/png": "[encoded data removed]"
          },
          "metadata": {}
        }
      ]
    },
    {
      "cell_type": "markdown",
      "source": [
        "- Ordenados según la variable TSA:"
      ],
      "metadata": {
        "id": "Y0qZR0Yy3t2o"
      }
    },
    {
      "cell_type": "code",
      "source": [
        "sorted = df.sort_values('TSA')\n",
        "msno.matrix(sorted,figsize=(20, 6), fontsize=12, color=[0.5,0,0])"
      ],
      "metadata": {
        "colab": {
          "base_uri": "https://localhost:8080/",
          "height": 571
        },
        "id": "jW67V1oeylhW",
        "outputId": "f27ab30d-9b39-45a2-b04d-bc132db7c8da"
      },
      "execution_count": null,
      "outputs": [
        {
          "output_type": "execute_result",
          "data": {
            "text/plain": [
              "<matplotlib.axes._subplots.AxesSubplot at 0x7f6d65f99590>"
            ]
          },
          "metadata": {},
          "execution_count": 133
        },
        {
          "output_type": "display_data",
          "data": {
            "text/plain": [
              "<Figure size 1440x432 with 2 Axes>"
            ],
            "image/png": "[encoded data removed]"
          },
          "metadata": {}
        }
      ]
    },
    {
      "cell_type": "markdown",
      "source": [
        "Revisar:\n",
        "\n",
        "Tenemos que BEST, TNA, TSA, QBO, WHWP, AMO presentan 7 valores con NaN. Decidimos entonces que los imputaremos dado metodo `SimpleImputer` combinado con el valor que arroje `median()`:"
      ],
      "metadata": {
        "id": "KE_WR3NtwegX"
      }
    },
    {
      "cell_type": "code",
      "source": [
        "from sklearn.impute import SimpleImputer\n",
        "\n",
        "values = [\"BEST\", \"TNA\", \"TSA\", \"QBO\",\"WHWP\", \"AMO\"],#'PMM', \"Trans-Nino Index TNI\", \"Nort Pacific Index NP\"]\n",
        "\n",
        "for i, value in enumerate(values):\n",
        "  globals()[f'mediana_{values[i]}'] = db_index[values[i]].median()\n",
        "  print(f'mediana_{values[i]}:')\n",
        "  print(globals()[f'mediana_{values[i]}'])\n",
        "\n",
        "  db_index[values[i]].fillna(globals()[f'mediana_{values[i]}'], inplace = True)\n",
        "\n",
        "  globals()[f'missing_values_{values[i]}'] = db_index[values[i]].isna().sum()\n",
        "  print(f'missing_values_{values[i]}:')\n",
        "  print(globals()[f'missing_values_{values[i]}'])\n",
        "  print(\"------ ------ ------ ------ ------ ------ ------ \")\n",
        "\n",
        " "
      ],
      "metadata": {
        "id": "IZwN98zMHfuW"
      },
      "execution_count": null,
      "outputs": []
    }
  ],
  "metadata": {
    "colab": {
      "collapsed_sections": [],
      "name": "TP2_Balbuena_Serrantes_Fonnegra_Velazquez.ipynb",
      "provenance": [],
      "include_colab_link": true
    },
    "kernelspec": {
      "display_name": "Python 3 (ipykernel)",
      "language": "python",
      "name": "python3"
    },
    "language_info": {
      "codemirror_mode": {
        "name": "ipython",
        "version": 3
      },
      "file_extension": ".py",
      "mimetype": "text/x-python",
      "name": "python",
      "nbconvert_exporter": "python",
      "pygments_lexer": "ipython3",
      "version": "3.9.7"
    }
  },
  "nbformat": 4,
  "nbformat_minor": 0
}