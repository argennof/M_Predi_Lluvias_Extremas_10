{
  "cells": [
    {
      "cell_type": "markdown",
      "metadata": {
        "id": "view-in-github",
        "colab_type": "text"
      },
      "source": [
        "<a href=\"https://colab.research.google.com/github/argennof/M_Predi_Lluvias_Extremas_10/blob/main/TP3/TP3.ipynb\" target=\"_parent\"><img src=\"https://colab.research.google.com/assets/colab-badge.svg\" alt=\"Open In Colab\"/></a>"
      ]
    },
    {
      "cell_type": "markdown",
      "metadata": {
        "id": "G5_42_uCeFCJ"
      },
      "source": [
        "## TP3: Introducción al aprendizaje automático"
      ]
    },
    {
      "cell_type": "code",
      "execution_count": null,
      "metadata": {
        "id": "FFh9lmbSeFCP"
      },
      "outputs": [],
      "source": [
        "import pandas as pd\n",
        "\n",
        "Datos = pd.read_csv(\"https://raw.githubusercontent.com/Rondamon/2022_Mentoria_LluviasExtremas/master/dataset/datos_diarios_cordoba.csv\", parse_dates = True, index_col=\"fecha\")\n",
        "id_Datos = pd.read_csv(\"https://raw.githubusercontent.com/Rondamon/2022_Mentoria_LluviasExtremas/master/dataset/metadatos_estaciones.csv\")"
      ]
    },
    {
      "cell_type": "markdown",
      "metadata": {
        "id": "8AZLxvMceFCQ"
      },
      "source": [
        "De los datasets analizados en los TPs anteriores, ahora nos vamos a enfocar en:\n",
        "\n",
        "- La Florida\n",
        "- Marcos Juarez\n",
        "\n",
        "Y vamos a usar como variable que queremos predecir, la PMDA que han calculado para cada año hidrológico (del 1/julio al 30/junio).\n",
        "\n",
        "Las demás variables (como viento, temperatura, etc) las vamos a resumir para cada año hidrológico en la media (se pueden agregar más estadísticos pero así es suficiente)."
      ]
    },
    {
      "cell_type": "markdown",
      "metadata": {
        "id": "L-6lwzNweFCR"
      },
      "source": [
        "##### Actividades:\n",
        "\n",
        "##### OBJETIVO: Predecir Precipitación Máxima Diaria Anual (PMDA) para los próximos 5 años"
      ]
    },
    {
      "cell_type": "markdown",
      "metadata": {
        "id": "sAsymsd-eFCR"
      },
      "source": [
        "1) De los dataset que han trabajado hasta ahora, agreguen más features al DataFrame **\"Datos\"** (Por lo general, más features tienden a dar mejores predicciones).\n",
        "\n",
        "2) Además de las features del punto anterior, les propongo agregar nuevas features moviendo las originales tantos \"pasos de tiempo\" como features nuevas quieran generar.\n",
        "\n",
        "3) Curar el dataset (si fuera necesario).\n",
        "\n",
        "4) Aplicar técnicas de selección y extraccion de features. Armar un nuevo dataset con aquellas features más significativas.\n",
        "\n",
        "5) Dividir el dataset (training, validation, test).. Recuerden que queremos predecir la PMDA para los próximos 5 años.\n",
        "\n",
        "6) Analizar y elegir 3 modelos para REGRESIÓN. Entrenarlos y analizar resultados.\n",
        "\n",
        "7) Evaluar predicciones de los diferentes modelos.\n",
        "\n",
        "8) ¿Qué estadísticos utilizaron para evaluar las regresiones? Justifiquen su elección."
      ]
    },
    {
      "cell_type": "code",
      "execution_count": null,
      "metadata": {
        "id": "UO83ZamseFCS"
      },
      "outputs": [],
      "source": [
        ""
      ]
    }
  ],
  "metadata": {
    "kernelspec": {
      "display_name": "Python 3 (ipykernel)",
      "language": "python",
      "name": "python3"
    },
    "language_info": {
      "codemirror_mode": {
        "name": "ipython",
        "version": 3
      },
      "file_extension": ".py",
      "mimetype": "text/x-python",
      "name": "python",
      "nbconvert_exporter": "python",
      "pygments_lexer": "ipython3",
      "version": "3.9.7"
    },
    "colab": {
      "name": "TP3.ipynb",
      "provenance": [],
      "include_colab_link": true
    }
  },
  "nbformat": 4,
  "nbformat_minor": 0
}